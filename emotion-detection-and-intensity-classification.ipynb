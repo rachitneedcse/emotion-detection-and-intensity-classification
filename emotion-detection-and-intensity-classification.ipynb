{
 "cells": [
  {
   "cell_type": "code",
   "execution_count": 1,
   "id": "687e1e05",
   "metadata": {
    "execution": {
     "iopub.execute_input": "2024-11-16T06:35:40.180205Z",
     "iopub.status.busy": "2024-11-16T06:35:40.179342Z",
     "iopub.status.idle": "2024-11-16T06:35:40.184078Z",
     "shell.execute_reply": "2024-11-16T06:35:40.183331Z"
    },
    "id": "EYLO3YmEv2vf",
    "papermill": {
     "duration": 0.027167,
     "end_time": "2024-11-16T06:35:40.186031",
     "exception": false,
     "start_time": "2024-11-16T06:35:40.158864",
     "status": "completed"
    },
    "tags": []
   },
   "outputs": [],
   "source": [
    "#DATASET"
   ]
  },
  {
   "cell_type": "code",
   "execution_count": 2,
   "id": "860fb0f3",
   "metadata": {
    "execution": {
     "iopub.execute_input": "2024-11-16T06:35:40.220037Z",
     "iopub.status.busy": "2024-11-16T06:35:40.219781Z",
     "iopub.status.idle": "2024-11-16T06:35:40.909172Z",
     "shell.execute_reply": "2024-11-16T06:35:40.908419Z"
    },
    "id": "62OcfPggw1nV",
    "papermill": {
     "duration": 0.70875,
     "end_time": "2024-11-16T06:35:40.911426",
     "exception": false,
     "start_time": "2024-11-16T06:35:40.202676",
     "status": "completed"
    },
    "tags": []
   },
   "outputs": [],
   "source": [
    "import pandas as pd\n",
    "\n",
    "data=pd.read_csv(\"/kaggle/input/multiclass/eng.csv\")"
   ]
  },
  {
   "cell_type": "code",
   "execution_count": 3,
   "id": "33b1421b",
   "metadata": {
    "execution": {
     "iopub.execute_input": "2024-11-16T06:35:40.946356Z",
     "iopub.status.busy": "2024-11-16T06:35:40.946056Z",
     "iopub.status.idle": "2024-11-16T06:35:40.974503Z",
     "shell.execute_reply": "2024-11-16T06:35:40.973461Z"
    },
    "id": "KvXvtMKW2YVK",
    "outputId": "ff7cc399-cd46-4888-be3f-dc61da3b9284",
    "papermill": {
     "duration": 0.048032,
     "end_time": "2024-11-16T06:35:40.976804",
     "exception": false,
     "start_time": "2024-11-16T06:35:40.928772",
     "status": "completed"
    },
    "tags": []
   },
   "outputs": [
    {
     "name": "stdout",
     "output_type": "stream",
     "text": [
      "<class 'pandas.core.frame.DataFrame'>\n",
      "RangeIndex: 2768 entries, 0 to 2767\n",
      "Data columns (total 7 columns):\n",
      " #   Column    Non-Null Count  Dtype \n",
      "---  ------    --------------  ----- \n",
      " 0   id        2768 non-null   object\n",
      " 1   text      2768 non-null   object\n",
      " 2   Anger     2768 non-null   int64 \n",
      " 3   Fear      2768 non-null   int64 \n",
      " 4   Joy       2768 non-null   int64 \n",
      " 5   Sadness   2768 non-null   int64 \n",
      " 6   Surprise  2768 non-null   int64 \n",
      "dtypes: int64(5), object(2)\n",
      "memory usage: 151.5+ KB\n"
     ]
    }
   ],
   "source": [
    "data.info()"
   ]
  },
  {
   "cell_type": "code",
   "execution_count": 4,
   "id": "2925845a",
   "metadata": {
    "execution": {
     "iopub.execute_input": "2024-11-16T06:35:41.011224Z",
     "iopub.status.busy": "2024-11-16T06:35:41.010958Z",
     "iopub.status.idle": "2024-11-16T06:35:41.028927Z",
     "shell.execute_reply": "2024-11-16T06:35:41.028044Z"
    },
    "id": "suctzTXh2kWQ",
    "outputId": "dc826037-3d4c-4716-c8c6-b4b5efb1113c",
    "papermill": {
     "duration": 0.037351,
     "end_time": "2024-11-16T06:35:41.030946",
     "exception": false,
     "start_time": "2024-11-16T06:35:40.993595",
     "status": "completed"
    },
    "tags": []
   },
   "outputs": [
    {
     "data": {
      "text/html": [
       "<div>\n",
       "<style scoped>\n",
       "    .dataframe tbody tr th:only-of-type {\n",
       "        vertical-align: middle;\n",
       "    }\n",
       "\n",
       "    .dataframe tbody tr th {\n",
       "        vertical-align: top;\n",
       "    }\n",
       "\n",
       "    .dataframe thead th {\n",
       "        text-align: right;\n",
       "    }\n",
       "</style>\n",
       "<table border=\"1\" class=\"dataframe\">\n",
       "  <thead>\n",
       "    <tr style=\"text-align: right;\">\n",
       "      <th></th>\n",
       "      <th>id</th>\n",
       "      <th>text</th>\n",
       "      <th>Anger</th>\n",
       "      <th>Fear</th>\n",
       "      <th>Joy</th>\n",
       "      <th>Sadness</th>\n",
       "      <th>Surprise</th>\n",
       "    </tr>\n",
       "  </thead>\n",
       "  <tbody>\n",
       "    <tr>\n",
       "      <th>0</th>\n",
       "      <td>eng_train_track_a_00001</td>\n",
       "      <td>But not very happy.</td>\n",
       "      <td>0</td>\n",
       "      <td>0</td>\n",
       "      <td>1</td>\n",
       "      <td>1</td>\n",
       "      <td>0</td>\n",
       "    </tr>\n",
       "    <tr>\n",
       "      <th>1</th>\n",
       "      <td>eng_train_track_a_00002</td>\n",
       "      <td>Well she's not gon na last the whole song like...</td>\n",
       "      <td>0</td>\n",
       "      <td>0</td>\n",
       "      <td>1</td>\n",
       "      <td>0</td>\n",
       "      <td>0</td>\n",
       "    </tr>\n",
       "    <tr>\n",
       "      <th>2</th>\n",
       "      <td>eng_train_track_a_00003</td>\n",
       "      <td>She sat at her Papa's recliner sofa only to mo...</td>\n",
       "      <td>0</td>\n",
       "      <td>0</td>\n",
       "      <td>0</td>\n",
       "      <td>0</td>\n",
       "      <td>0</td>\n",
       "    </tr>\n",
       "    <tr>\n",
       "      <th>3</th>\n",
       "      <td>eng_train_track_a_00004</td>\n",
       "      <td>Yes, the Oklahoma city bombing.</td>\n",
       "      <td>1</td>\n",
       "      <td>1</td>\n",
       "      <td>0</td>\n",
       "      <td>1</td>\n",
       "      <td>1</td>\n",
       "    </tr>\n",
       "    <tr>\n",
       "      <th>4</th>\n",
       "      <td>eng_train_track_a_00005</td>\n",
       "      <td>They were dancing to Bolero.</td>\n",
       "      <td>0</td>\n",
       "      <td>0</td>\n",
       "      <td>1</td>\n",
       "      <td>0</td>\n",
       "      <td>0</td>\n",
       "    </tr>\n",
       "    <tr>\n",
       "      <th>...</th>\n",
       "      <td>...</td>\n",
       "      <td>...</td>\n",
       "      <td>...</td>\n",
       "      <td>...</td>\n",
       "      <td>...</td>\n",
       "      <td>...</td>\n",
       "      <td>...</td>\n",
       "    </tr>\n",
       "    <tr>\n",
       "      <th>95</th>\n",
       "      <td>eng_train_track_a_00096</td>\n",
       "      <td>He took the picture and followed the giggling.</td>\n",
       "      <td>0</td>\n",
       "      <td>1</td>\n",
       "      <td>1</td>\n",
       "      <td>0</td>\n",
       "      <td>1</td>\n",
       "    </tr>\n",
       "    <tr>\n",
       "      <th>96</th>\n",
       "      <td>eng_train_track_a_00097</td>\n",
       "      <td>My nose was mashed against my face, I was in c...</td>\n",
       "      <td>0</td>\n",
       "      <td>1</td>\n",
       "      <td>0</td>\n",
       "      <td>1</td>\n",
       "      <td>0</td>\n",
       "    </tr>\n",
       "    <tr>\n",
       "      <th>97</th>\n",
       "      <td>eng_train_track_a_00098</td>\n",
       "      <td>Immediately I regretted leaving behind my sung...</td>\n",
       "      <td>0</td>\n",
       "      <td>1</td>\n",
       "      <td>0</td>\n",
       "      <td>0</td>\n",
       "      <td>0</td>\n",
       "    </tr>\n",
       "    <tr>\n",
       "      <th>98</th>\n",
       "      <td>eng_train_track_a_00099</td>\n",
       "      <td>I was eating and drinking well, my legs felt f...</td>\n",
       "      <td>0</td>\n",
       "      <td>0</td>\n",
       "      <td>1</td>\n",
       "      <td>0</td>\n",
       "      <td>0</td>\n",
       "    </tr>\n",
       "    <tr>\n",
       "      <th>99</th>\n",
       "      <td>eng_train_track_a_00100</td>\n",
       "      <td>I woke up, brushed my teeth, and started to pl...</td>\n",
       "      <td>0</td>\n",
       "      <td>0</td>\n",
       "      <td>1</td>\n",
       "      <td>0</td>\n",
       "      <td>0</td>\n",
       "    </tr>\n",
       "  </tbody>\n",
       "</table>\n",
       "<p>100 rows × 7 columns</p>\n",
       "</div>"
      ],
      "text/plain": [
       "                         id  \\\n",
       "0   eng_train_track_a_00001   \n",
       "1   eng_train_track_a_00002   \n",
       "2   eng_train_track_a_00003   \n",
       "3   eng_train_track_a_00004   \n",
       "4   eng_train_track_a_00005   \n",
       "..                      ...   \n",
       "95  eng_train_track_a_00096   \n",
       "96  eng_train_track_a_00097   \n",
       "97  eng_train_track_a_00098   \n",
       "98  eng_train_track_a_00099   \n",
       "99  eng_train_track_a_00100   \n",
       "\n",
       "                                                 text  Anger  Fear  Joy  \\\n",
       "0                                 But not very happy.      0     0    1   \n",
       "1   Well she's not gon na last the whole song like...      0     0    1   \n",
       "2   She sat at her Papa's recliner sofa only to mo...      0     0    0   \n",
       "3                     Yes, the Oklahoma city bombing.      1     1    0   \n",
       "4                        They were dancing to Bolero.      0     0    1   \n",
       "..                                                ...    ...   ...  ...   \n",
       "95     He took the picture and followed the giggling.      0     1    1   \n",
       "96  My nose was mashed against my face, I was in c...      0     1    0   \n",
       "97  Immediately I regretted leaving behind my sung...      0     1    0   \n",
       "98  I was eating and drinking well, my legs felt f...      0     0    1   \n",
       "99  I woke up, brushed my teeth, and started to pl...      0     0    1   \n",
       "\n",
       "    Sadness  Surprise  \n",
       "0         1         0  \n",
       "1         0         0  \n",
       "2         0         0  \n",
       "3         1         1  \n",
       "4         0         0  \n",
       "..      ...       ...  \n",
       "95        0         1  \n",
       "96        1         0  \n",
       "97        0         0  \n",
       "98        0         0  \n",
       "99        0         0  \n",
       "\n",
       "[100 rows x 7 columns]"
      ]
     },
     "execution_count": 4,
     "metadata": {},
     "output_type": "execute_result"
    }
   ],
   "source": [
    "data.head(100)"
   ]
  },
  {
   "cell_type": "code",
   "execution_count": 5,
   "id": "8b96f7dc",
   "metadata": {
    "execution": {
     "iopub.execute_input": "2024-11-16T06:35:41.066793Z",
     "iopub.status.busy": "2024-11-16T06:35:41.065992Z",
     "iopub.status.idle": "2024-11-16T06:35:41.071864Z",
     "shell.execute_reply": "2024-11-16T06:35:41.071033Z"
    },
    "id": "I8Wl_OXH3hIj",
    "outputId": "f7f9bfb0-ed71-4edf-9cce-62166aac7142",
    "papermill": {
     "duration": 0.025627,
     "end_time": "2024-11-16T06:35:41.073830",
     "exception": false,
     "start_time": "2024-11-16T06:35:41.048203",
     "status": "completed"
    },
    "tags": []
   },
   "outputs": [
    {
     "data": {
      "text/plain": [
       "(2768, 7)"
      ]
     },
     "execution_count": 5,
     "metadata": {},
     "output_type": "execute_result"
    }
   ],
   "source": [
    "data.shape"
   ]
  },
  {
   "cell_type": "code",
   "execution_count": 6,
   "id": "e54a4702",
   "metadata": {
    "execution": {
     "iopub.execute_input": "2024-11-16T06:35:41.112902Z",
     "iopub.status.busy": "2024-11-16T06:35:41.112582Z",
     "iopub.status.idle": "2024-11-16T06:35:41.117980Z",
     "shell.execute_reply": "2024-11-16T06:35:41.116744Z"
    },
    "id": "6UudwZmwP8Kk",
    "outputId": "81d71136-1894-4da5-cd9c-60c01b619f44",
    "papermill": {
     "duration": 0.029415,
     "end_time": "2024-11-16T06:35:41.120086",
     "exception": false,
     "start_time": "2024-11-16T06:35:41.090671",
     "status": "completed"
    },
    "tags": []
   },
   "outputs": [
    {
     "name": "stdout",
     "output_type": "stream",
     "text": [
      "Index(['id', 'text', 'Anger', 'Fear', 'Joy', 'Sadness', 'Surprise'], dtype='object')\n"
     ]
    }
   ],
   "source": [
    "print(data.columns)"
   ]
  },
  {
   "cell_type": "markdown",
   "id": "ee66cc32",
   "metadata": {
    "id": "tR3jMPB2WxfK",
    "papermill": {
     "duration": 0.022036,
     "end_time": "2024-11-16T06:35:41.164941",
     "exception": false,
     "start_time": "2024-11-16T06:35:41.142905",
     "status": "completed"
    },
    "tags": []
   },
   "source": [
    "# Pre processing"
   ]
  },
  {
   "cell_type": "markdown",
   "id": "1f9eee8d",
   "metadata": {
    "id": "JNH7s9srgvty",
    "papermill": {
     "duration": 0.020597,
     "end_time": "2024-11-16T06:35:41.209758",
     "exception": false,
     "start_time": "2024-11-16T06:35:41.189161",
     "status": "completed"
    },
    "tags": []
   },
   "source": [
    "## formating aur dataset"
   ]
  },
  {
   "cell_type": "code",
   "execution_count": 7,
   "id": "e3d3920b",
   "metadata": {
    "execution": {
     "iopub.execute_input": "2024-11-16T06:35:41.245768Z",
     "iopub.status.busy": "2024-11-16T06:35:41.245428Z",
     "iopub.status.idle": "2024-11-16T06:35:41.252636Z",
     "shell.execute_reply": "2024-11-16T06:35:41.251782Z"
    },
    "id": "XH3mmgp5QtS-",
    "papermill": {
     "duration": 0.027311,
     "end_time": "2024-11-16T06:35:41.254665",
     "exception": false,
     "start_time": "2024-11-16T06:35:41.227354",
     "status": "completed"
    },
    "tags": []
   },
   "outputs": [],
   "source": [
    "data=data.drop(\"id\",axis=1)"
   ]
  },
  {
   "cell_type": "code",
   "execution_count": 8,
   "id": "e2c11131",
   "metadata": {
    "execution": {
     "iopub.execute_input": "2024-11-16T06:35:41.296176Z",
     "iopub.status.busy": "2024-11-16T06:35:41.295760Z",
     "iopub.status.idle": "2024-11-16T06:35:41.310522Z",
     "shell.execute_reply": "2024-11-16T06:35:41.309485Z"
    },
    "id": "Ep9oHXULRsBN",
    "outputId": "3039e5ae-0b18-46c0-a95e-f0d95bf68e16",
    "papermill": {
     "duration": 0.037295,
     "end_time": "2024-11-16T06:35:41.312521",
     "exception": false,
     "start_time": "2024-11-16T06:35:41.275226",
     "status": "completed"
    },
    "tags": []
   },
   "outputs": [
    {
     "data": {
      "text/html": [
       "<div>\n",
       "<style scoped>\n",
       "    .dataframe tbody tr th:only-of-type {\n",
       "        vertical-align: middle;\n",
       "    }\n",
       "\n",
       "    .dataframe tbody tr th {\n",
       "        vertical-align: top;\n",
       "    }\n",
       "\n",
       "    .dataframe thead th {\n",
       "        text-align: right;\n",
       "    }\n",
       "</style>\n",
       "<table border=\"1\" class=\"dataframe\">\n",
       "  <thead>\n",
       "    <tr style=\"text-align: right;\">\n",
       "      <th></th>\n",
       "      <th>text</th>\n",
       "      <th>Anger</th>\n",
       "      <th>Fear</th>\n",
       "      <th>Joy</th>\n",
       "      <th>Sadness</th>\n",
       "      <th>Surprise</th>\n",
       "    </tr>\n",
       "  </thead>\n",
       "  <tbody>\n",
       "    <tr>\n",
       "      <th>0</th>\n",
       "      <td>But not very happy.</td>\n",
       "      <td>0</td>\n",
       "      <td>0</td>\n",
       "      <td>1</td>\n",
       "      <td>1</td>\n",
       "      <td>0</td>\n",
       "    </tr>\n",
       "    <tr>\n",
       "      <th>1</th>\n",
       "      <td>Well she's not gon na last the whole song like...</td>\n",
       "      <td>0</td>\n",
       "      <td>0</td>\n",
       "      <td>1</td>\n",
       "      <td>0</td>\n",
       "      <td>0</td>\n",
       "    </tr>\n",
       "    <tr>\n",
       "      <th>2</th>\n",
       "      <td>She sat at her Papa's recliner sofa only to mo...</td>\n",
       "      <td>0</td>\n",
       "      <td>0</td>\n",
       "      <td>0</td>\n",
       "      <td>0</td>\n",
       "      <td>0</td>\n",
       "    </tr>\n",
       "    <tr>\n",
       "      <th>3</th>\n",
       "      <td>Yes, the Oklahoma city bombing.</td>\n",
       "      <td>1</td>\n",
       "      <td>1</td>\n",
       "      <td>0</td>\n",
       "      <td>1</td>\n",
       "      <td>1</td>\n",
       "    </tr>\n",
       "    <tr>\n",
       "      <th>4</th>\n",
       "      <td>They were dancing to Bolero.</td>\n",
       "      <td>0</td>\n",
       "      <td>0</td>\n",
       "      <td>1</td>\n",
       "      <td>0</td>\n",
       "      <td>0</td>\n",
       "    </tr>\n",
       "    <tr>\n",
       "      <th>...</th>\n",
       "      <td>...</td>\n",
       "      <td>...</td>\n",
       "      <td>...</td>\n",
       "      <td>...</td>\n",
       "      <td>...</td>\n",
       "      <td>...</td>\n",
       "    </tr>\n",
       "    <tr>\n",
       "      <th>2763</th>\n",
       "      <td>\"Yeah, but did you just find that?</td>\n",
       "      <td>0</td>\n",
       "      <td>1</td>\n",
       "      <td>0</td>\n",
       "      <td>0</td>\n",
       "      <td>1</td>\n",
       "    </tr>\n",
       "    <tr>\n",
       "      <th>2764</th>\n",
       "      <td>I did as little as possible with my right hand...</td>\n",
       "      <td>0</td>\n",
       "      <td>0</td>\n",
       "      <td>0</td>\n",
       "      <td>0</td>\n",
       "      <td>0</td>\n",
       "    </tr>\n",
       "    <tr>\n",
       "      <th>2765</th>\n",
       "      <td>Okay that sucks, right?</td>\n",
       "      <td>1</td>\n",
       "      <td>0</td>\n",
       "      <td>0</td>\n",
       "      <td>1</td>\n",
       "      <td>0</td>\n",
       "    </tr>\n",
       "    <tr>\n",
       "      <th>2766</th>\n",
       "      <td>The spark leaped through his body into mine, a...</td>\n",
       "      <td>0</td>\n",
       "      <td>1</td>\n",
       "      <td>0</td>\n",
       "      <td>0</td>\n",
       "      <td>1</td>\n",
       "    </tr>\n",
       "    <tr>\n",
       "      <th>2767</th>\n",
       "      <td>He had 4 inches and 40 pounds on me and I stil...</td>\n",
       "      <td>0</td>\n",
       "      <td>0</td>\n",
       "      <td>1</td>\n",
       "      <td>0</td>\n",
       "      <td>1</td>\n",
       "    </tr>\n",
       "  </tbody>\n",
       "</table>\n",
       "<p>2768 rows × 6 columns</p>\n",
       "</div>"
      ],
      "text/plain": [
       "                                                   text  Anger  Fear  Joy  \\\n",
       "0                                   But not very happy.      0     0    1   \n",
       "1     Well she's not gon na last the whole song like...      0     0    1   \n",
       "2     She sat at her Papa's recliner sofa only to mo...      0     0    0   \n",
       "3                       Yes, the Oklahoma city bombing.      1     1    0   \n",
       "4                          They were dancing to Bolero.      0     0    1   \n",
       "...                                                 ...    ...   ...  ...   \n",
       "2763                 \"Yeah, but did you just find that?      0     1    0   \n",
       "2764  I did as little as possible with my right hand...      0     0    0   \n",
       "2765                            Okay that sucks, right?      1     0    0   \n",
       "2766  The spark leaped through his body into mine, a...      0     1    0   \n",
       "2767  He had 4 inches and 40 pounds on me and I stil...      0     0    1   \n",
       "\n",
       "      Sadness  Surprise  \n",
       "0           1         0  \n",
       "1           0         0  \n",
       "2           0         0  \n",
       "3           1         1  \n",
       "4           0         0  \n",
       "...       ...       ...  \n",
       "2763        0         1  \n",
       "2764        0         0  \n",
       "2765        1         0  \n",
       "2766        0         1  \n",
       "2767        0         1  \n",
       "\n",
       "[2768 rows x 6 columns]"
      ]
     },
     "execution_count": 8,
     "metadata": {},
     "output_type": "execute_result"
    }
   ],
   "source": [
    "data"
   ]
  },
  {
   "cell_type": "code",
   "execution_count": 9,
   "id": "624cd2df",
   "metadata": {
    "execution": {
     "iopub.execute_input": "2024-11-16T06:35:41.349341Z",
     "iopub.status.busy": "2024-11-16T06:35:41.348665Z",
     "iopub.status.idle": "2024-11-16T06:35:41.357487Z",
     "shell.execute_reply": "2024-11-16T06:35:41.356473Z"
    },
    "id": "WqBjPzMZU3Tz",
    "outputId": "0b95de7e-b4c2-4b66-f747-c44f8e5e043a",
    "papermill": {
     "duration": 0.029374,
     "end_time": "2024-11-16T06:35:41.359386",
     "exception": false,
     "start_time": "2024-11-16T06:35:41.330012",
     "status": "completed"
    },
    "tags": []
   },
   "outputs": [
    {
     "data": {
      "text/plain": [
       "text        0\n",
       "Anger       0\n",
       "Fear        0\n",
       "Joy         0\n",
       "Sadness     0\n",
       "Surprise    0\n",
       "dtype: int64"
      ]
     },
     "execution_count": 9,
     "metadata": {},
     "output_type": "execute_result"
    }
   ],
   "source": [
    "data.isnull().sum()"
   ]
  },
  {
   "cell_type": "markdown",
   "id": "4e900e55",
   "metadata": {
    "id": "DpXcZ3poXLs6",
    "papermill": {
     "duration": 0.017356,
     "end_time": "2024-11-16T06:35:41.394534",
     "exception": false,
     "start_time": "2024-11-16T06:35:41.377178",
     "status": "completed"
    },
    "tags": []
   },
   "source": [
    "## removing punctuation marks"
   ]
  },
  {
   "cell_type": "code",
   "execution_count": 10,
   "id": "e563ce25",
   "metadata": {
    "execution": {
     "iopub.execute_input": "2024-11-16T06:35:41.436628Z",
     "iopub.status.busy": "2024-11-16T06:35:41.435670Z",
     "iopub.status.idle": "2024-11-16T06:35:41.440594Z",
     "shell.execute_reply": "2024-11-16T06:35:41.439623Z"
    },
    "id": "T3EqCiDWW3fo",
    "papermill": {
     "duration": 0.026979,
     "end_time": "2024-11-16T06:35:41.442594",
     "exception": false,
     "start_time": "2024-11-16T06:35:41.415615",
     "status": "completed"
    },
    "tags": []
   },
   "outputs": [],
   "source": [
    "import string"
   ]
  },
  {
   "cell_type": "code",
   "execution_count": 11,
   "id": "8a0c83fb",
   "metadata": {
    "execution": {
     "iopub.execute_input": "2024-11-16T06:35:41.480241Z",
     "iopub.status.busy": "2024-11-16T06:35:41.479522Z",
     "iopub.status.idle": "2024-11-16T06:35:41.486060Z",
     "shell.execute_reply": "2024-11-16T06:35:41.485112Z"
    },
    "id": "2x1Rj4kWXeBe",
    "outputId": "1ef40bb3-c9e5-478d-a60d-562c10f5327a",
    "papermill": {
     "duration": 0.02755,
     "end_time": "2024-11-16T06:35:41.488097",
     "exception": false,
     "start_time": "2024-11-16T06:35:41.460547",
     "status": "completed"
    },
    "tags": []
   },
   "outputs": [
    {
     "data": {
      "text/plain": [
       "'!\"#$%&\\'()*+,-./:;<=>?@[\\\\]^_`{|}~'"
      ]
     },
     "execution_count": 11,
     "metadata": {},
     "output_type": "execute_result"
    }
   ],
   "source": [
    "letters=string.punctuation\n",
    "\n",
    "letters"
   ]
  },
  {
   "cell_type": "code",
   "execution_count": 12,
   "id": "4775f584",
   "metadata": {
    "execution": {
     "iopub.execute_input": "2024-11-16T06:35:41.524843Z",
     "iopub.status.busy": "2024-11-16T06:35:41.524536Z",
     "iopub.status.idle": "2024-11-16T06:35:41.529037Z",
     "shell.execute_reply": "2024-11-16T06:35:41.528302Z"
    },
    "id": "VkOs7kUGXiqp",
    "papermill": {
     "duration": 0.025272,
     "end_time": "2024-11-16T06:35:41.531021",
     "exception": false,
     "start_time": "2024-11-16T06:35:41.505749",
     "status": "completed"
    },
    "tags": []
   },
   "outputs": [],
   "source": [
    "def removing_punct(text):\n",
    "\n",
    "  return text.translate(str.maketrans('','',letters))"
   ]
  },
  {
   "cell_type": "code",
   "execution_count": 13,
   "id": "bb3cb21b",
   "metadata": {
    "execution": {
     "iopub.execute_input": "2024-11-16T06:35:41.578084Z",
     "iopub.status.busy": "2024-11-16T06:35:41.577301Z",
     "iopub.status.idle": "2024-11-16T06:35:41.600136Z",
     "shell.execute_reply": "2024-11-16T06:35:41.599278Z"
    },
    "id": "sNxTb_zeXzM2",
    "papermill": {
     "duration": 0.050794,
     "end_time": "2024-11-16T06:35:41.602518",
     "exception": false,
     "start_time": "2024-11-16T06:35:41.551724",
     "status": "completed"
    },
    "tags": []
   },
   "outputs": [],
   "source": [
    "data['text']=data['text'].apply(removing_punct)"
   ]
  },
  {
   "cell_type": "code",
   "execution_count": 14,
   "id": "8ab0db14",
   "metadata": {
    "execution": {
     "iopub.execute_input": "2024-11-16T06:35:41.643528Z",
     "iopub.status.busy": "2024-11-16T06:35:41.643009Z",
     "iopub.status.idle": "2024-11-16T06:35:41.657671Z",
     "shell.execute_reply": "2024-11-16T06:35:41.656653Z"
    },
    "id": "V6eK4zUSYDVI",
    "outputId": "041eca5b-8b8a-46be-e9cf-80d39f3f24b0",
    "papermill": {
     "duration": 0.035669,
     "end_time": "2024-11-16T06:35:41.659685",
     "exception": false,
     "start_time": "2024-11-16T06:35:41.624016",
     "status": "completed"
    },
    "tags": []
   },
   "outputs": [
    {
     "data": {
      "text/html": [
       "<div>\n",
       "<style scoped>\n",
       "    .dataframe tbody tr th:only-of-type {\n",
       "        vertical-align: middle;\n",
       "    }\n",
       "\n",
       "    .dataframe tbody tr th {\n",
       "        vertical-align: top;\n",
       "    }\n",
       "\n",
       "    .dataframe thead th {\n",
       "        text-align: right;\n",
       "    }\n",
       "</style>\n",
       "<table border=\"1\" class=\"dataframe\">\n",
       "  <thead>\n",
       "    <tr style=\"text-align: right;\">\n",
       "      <th></th>\n",
       "      <th>text</th>\n",
       "      <th>Anger</th>\n",
       "      <th>Fear</th>\n",
       "      <th>Joy</th>\n",
       "      <th>Sadness</th>\n",
       "      <th>Surprise</th>\n",
       "    </tr>\n",
       "  </thead>\n",
       "  <tbody>\n",
       "    <tr>\n",
       "      <th>0</th>\n",
       "      <td>But not very happy</td>\n",
       "      <td>0</td>\n",
       "      <td>0</td>\n",
       "      <td>1</td>\n",
       "      <td>1</td>\n",
       "      <td>0</td>\n",
       "    </tr>\n",
       "    <tr>\n",
       "      <th>1</th>\n",
       "      <td>Well shes not gon na last the whole song like ...</td>\n",
       "      <td>0</td>\n",
       "      <td>0</td>\n",
       "      <td>1</td>\n",
       "      <td>0</td>\n",
       "      <td>0</td>\n",
       "    </tr>\n",
       "    <tr>\n",
       "      <th>2</th>\n",
       "      <td>She sat at her Papas recliner sofa only to mov...</td>\n",
       "      <td>0</td>\n",
       "      <td>0</td>\n",
       "      <td>0</td>\n",
       "      <td>0</td>\n",
       "      <td>0</td>\n",
       "    </tr>\n",
       "    <tr>\n",
       "      <th>3</th>\n",
       "      <td>Yes the Oklahoma city bombing</td>\n",
       "      <td>1</td>\n",
       "      <td>1</td>\n",
       "      <td>0</td>\n",
       "      <td>1</td>\n",
       "      <td>1</td>\n",
       "    </tr>\n",
       "    <tr>\n",
       "      <th>4</th>\n",
       "      <td>They were dancing to Bolero</td>\n",
       "      <td>0</td>\n",
       "      <td>0</td>\n",
       "      <td>1</td>\n",
       "      <td>0</td>\n",
       "      <td>0</td>\n",
       "    </tr>\n",
       "    <tr>\n",
       "      <th>...</th>\n",
       "      <td>...</td>\n",
       "      <td>...</td>\n",
       "      <td>...</td>\n",
       "      <td>...</td>\n",
       "      <td>...</td>\n",
       "      <td>...</td>\n",
       "    </tr>\n",
       "    <tr>\n",
       "      <th>2763</th>\n",
       "      <td>Yeah but did you just find that</td>\n",
       "      <td>0</td>\n",
       "      <td>1</td>\n",
       "      <td>0</td>\n",
       "      <td>0</td>\n",
       "      <td>1</td>\n",
       "    </tr>\n",
       "    <tr>\n",
       "      <th>2764</th>\n",
       "      <td>I did as little as possible with my right hand...</td>\n",
       "      <td>0</td>\n",
       "      <td>0</td>\n",
       "      <td>0</td>\n",
       "      <td>0</td>\n",
       "      <td>0</td>\n",
       "    </tr>\n",
       "    <tr>\n",
       "      <th>2765</th>\n",
       "      <td>Okay that sucks right</td>\n",
       "      <td>1</td>\n",
       "      <td>0</td>\n",
       "      <td>0</td>\n",
       "      <td>1</td>\n",
       "      <td>0</td>\n",
       "    </tr>\n",
       "    <tr>\n",
       "      <th>2766</th>\n",
       "      <td>The spark leaped through his body into mine an...</td>\n",
       "      <td>0</td>\n",
       "      <td>1</td>\n",
       "      <td>0</td>\n",
       "      <td>0</td>\n",
       "      <td>1</td>\n",
       "    </tr>\n",
       "    <tr>\n",
       "      <th>2767</th>\n",
       "      <td>He had 4 inches and 40 pounds on me and I stil...</td>\n",
       "      <td>0</td>\n",
       "      <td>0</td>\n",
       "      <td>1</td>\n",
       "      <td>0</td>\n",
       "      <td>1</td>\n",
       "    </tr>\n",
       "  </tbody>\n",
       "</table>\n",
       "<p>2768 rows × 6 columns</p>\n",
       "</div>"
      ],
      "text/plain": [
       "                                                   text  Anger  Fear  Joy  \\\n",
       "0                                    But not very happy      0     0    1   \n",
       "1     Well shes not gon na last the whole song like ...      0     0    1   \n",
       "2     She sat at her Papas recliner sofa only to mov...      0     0    0   \n",
       "3                         Yes the Oklahoma city bombing      1     1    0   \n",
       "4                           They were dancing to Bolero      0     0    1   \n",
       "...                                                 ...    ...   ...  ...   \n",
       "2763                    Yeah but did you just find that      0     1    0   \n",
       "2764  I did as little as possible with my right hand...      0     0    0   \n",
       "2765                              Okay that sucks right      1     0    0   \n",
       "2766  The spark leaped through his body into mine an...      0     1    0   \n",
       "2767  He had 4 inches and 40 pounds on me and I stil...      0     0    1   \n",
       "\n",
       "      Sadness  Surprise  \n",
       "0           1         0  \n",
       "1           0         0  \n",
       "2           0         0  \n",
       "3           1         1  \n",
       "4           0         0  \n",
       "...       ...       ...  \n",
       "2763        0         1  \n",
       "2764        0         0  \n",
       "2765        1         0  \n",
       "2766        0         1  \n",
       "2767        0         1  \n",
       "\n",
       "[2768 rows x 6 columns]"
      ]
     },
     "execution_count": 14,
     "metadata": {},
     "output_type": "execute_result"
    }
   ],
   "source": [
    "data"
   ]
  },
  {
   "cell_type": "markdown",
   "id": "31673fd8",
   "metadata": {
    "id": "FjpG1HzmYQyU",
    "papermill": {
     "duration": 0.017951,
     "end_time": "2024-11-16T06:35:41.695705",
     "exception": false,
     "start_time": "2024-11-16T06:35:41.677754",
     "status": "completed"
    },
    "tags": []
   },
   "source": [
    "## lowercasing"
   ]
  },
  {
   "cell_type": "code",
   "execution_count": 15,
   "id": "1fe0079e",
   "metadata": {
    "execution": {
     "iopub.execute_input": "2024-11-16T06:35:41.735183Z",
     "iopub.status.busy": "2024-11-16T06:35:41.734292Z",
     "iopub.status.idle": "2024-11-16T06:35:41.741595Z",
     "shell.execute_reply": "2024-11-16T06:35:41.740729Z"
    },
    "id": "KHC9_acJYUhC",
    "papermill": {
     "duration": 0.028761,
     "end_time": "2024-11-16T06:35:41.743603",
     "exception": false,
     "start_time": "2024-11-16T06:35:41.714842",
     "status": "completed"
    },
    "tags": []
   },
   "outputs": [],
   "source": [
    "data['text']=data['text'].str.lower()"
   ]
  },
  {
   "cell_type": "code",
   "execution_count": 16,
   "id": "f023bdab",
   "metadata": {
    "execution": {
     "iopub.execute_input": "2024-11-16T06:35:41.781044Z",
     "iopub.status.busy": "2024-11-16T06:35:41.780705Z",
     "iopub.status.idle": "2024-11-16T06:35:41.794326Z",
     "shell.execute_reply": "2024-11-16T06:35:41.793405Z"
    },
    "id": "pKSfmBjBYXtk",
    "outputId": "f4d8750c-afec-4859-8884-d9a7dd5457a4",
    "papermill": {
     "duration": 0.03473,
     "end_time": "2024-11-16T06:35:41.796345",
     "exception": false,
     "start_time": "2024-11-16T06:35:41.761615",
     "status": "completed"
    },
    "tags": []
   },
   "outputs": [
    {
     "data": {
      "text/html": [
       "<div>\n",
       "<style scoped>\n",
       "    .dataframe tbody tr th:only-of-type {\n",
       "        vertical-align: middle;\n",
       "    }\n",
       "\n",
       "    .dataframe tbody tr th {\n",
       "        vertical-align: top;\n",
       "    }\n",
       "\n",
       "    .dataframe thead th {\n",
       "        text-align: right;\n",
       "    }\n",
       "</style>\n",
       "<table border=\"1\" class=\"dataframe\">\n",
       "  <thead>\n",
       "    <tr style=\"text-align: right;\">\n",
       "      <th></th>\n",
       "      <th>text</th>\n",
       "      <th>Anger</th>\n",
       "      <th>Fear</th>\n",
       "      <th>Joy</th>\n",
       "      <th>Sadness</th>\n",
       "      <th>Surprise</th>\n",
       "    </tr>\n",
       "  </thead>\n",
       "  <tbody>\n",
       "    <tr>\n",
       "      <th>0</th>\n",
       "      <td>but not very happy</td>\n",
       "      <td>0</td>\n",
       "      <td>0</td>\n",
       "      <td>1</td>\n",
       "      <td>1</td>\n",
       "      <td>0</td>\n",
       "    </tr>\n",
       "    <tr>\n",
       "      <th>1</th>\n",
       "      <td>well shes not gon na last the whole song like ...</td>\n",
       "      <td>0</td>\n",
       "      <td>0</td>\n",
       "      <td>1</td>\n",
       "      <td>0</td>\n",
       "      <td>0</td>\n",
       "    </tr>\n",
       "    <tr>\n",
       "      <th>2</th>\n",
       "      <td>she sat at her papas recliner sofa only to mov...</td>\n",
       "      <td>0</td>\n",
       "      <td>0</td>\n",
       "      <td>0</td>\n",
       "      <td>0</td>\n",
       "      <td>0</td>\n",
       "    </tr>\n",
       "    <tr>\n",
       "      <th>3</th>\n",
       "      <td>yes the oklahoma city bombing</td>\n",
       "      <td>1</td>\n",
       "      <td>1</td>\n",
       "      <td>0</td>\n",
       "      <td>1</td>\n",
       "      <td>1</td>\n",
       "    </tr>\n",
       "    <tr>\n",
       "      <th>4</th>\n",
       "      <td>they were dancing to bolero</td>\n",
       "      <td>0</td>\n",
       "      <td>0</td>\n",
       "      <td>1</td>\n",
       "      <td>0</td>\n",
       "      <td>0</td>\n",
       "    </tr>\n",
       "    <tr>\n",
       "      <th>...</th>\n",
       "      <td>...</td>\n",
       "      <td>...</td>\n",
       "      <td>...</td>\n",
       "      <td>...</td>\n",
       "      <td>...</td>\n",
       "      <td>...</td>\n",
       "    </tr>\n",
       "    <tr>\n",
       "      <th>2763</th>\n",
       "      <td>yeah but did you just find that</td>\n",
       "      <td>0</td>\n",
       "      <td>1</td>\n",
       "      <td>0</td>\n",
       "      <td>0</td>\n",
       "      <td>1</td>\n",
       "    </tr>\n",
       "    <tr>\n",
       "      <th>2764</th>\n",
       "      <td>i did as little as possible with my right hand...</td>\n",
       "      <td>0</td>\n",
       "      <td>0</td>\n",
       "      <td>0</td>\n",
       "      <td>0</td>\n",
       "      <td>0</td>\n",
       "    </tr>\n",
       "    <tr>\n",
       "      <th>2765</th>\n",
       "      <td>okay that sucks right</td>\n",
       "      <td>1</td>\n",
       "      <td>0</td>\n",
       "      <td>0</td>\n",
       "      <td>1</td>\n",
       "      <td>0</td>\n",
       "    </tr>\n",
       "    <tr>\n",
       "      <th>2766</th>\n",
       "      <td>the spark leaped through his body into mine an...</td>\n",
       "      <td>0</td>\n",
       "      <td>1</td>\n",
       "      <td>0</td>\n",
       "      <td>0</td>\n",
       "      <td>1</td>\n",
       "    </tr>\n",
       "    <tr>\n",
       "      <th>2767</th>\n",
       "      <td>he had 4 inches and 40 pounds on me and i stil...</td>\n",
       "      <td>0</td>\n",
       "      <td>0</td>\n",
       "      <td>1</td>\n",
       "      <td>0</td>\n",
       "      <td>1</td>\n",
       "    </tr>\n",
       "  </tbody>\n",
       "</table>\n",
       "<p>2768 rows × 6 columns</p>\n",
       "</div>"
      ],
      "text/plain": [
       "                                                   text  Anger  Fear  Joy  \\\n",
       "0                                    but not very happy      0     0    1   \n",
       "1     well shes not gon na last the whole song like ...      0     0    1   \n",
       "2     she sat at her papas recliner sofa only to mov...      0     0    0   \n",
       "3                         yes the oklahoma city bombing      1     1    0   \n",
       "4                           they were dancing to bolero      0     0    1   \n",
       "...                                                 ...    ...   ...  ...   \n",
       "2763                    yeah but did you just find that      0     1    0   \n",
       "2764  i did as little as possible with my right hand...      0     0    0   \n",
       "2765                              okay that sucks right      1     0    0   \n",
       "2766  the spark leaped through his body into mine an...      0     1    0   \n",
       "2767  he had 4 inches and 40 pounds on me and i stil...      0     0    1   \n",
       "\n",
       "      Sadness  Surprise  \n",
       "0           1         0  \n",
       "1           0         0  \n",
       "2           0         0  \n",
       "3           1         1  \n",
       "4           0         0  \n",
       "...       ...       ...  \n",
       "2763        0         1  \n",
       "2764        0         0  \n",
       "2765        1         0  \n",
       "2766        0         1  \n",
       "2767        0         1  \n",
       "\n",
       "[2768 rows x 6 columns]"
      ]
     },
     "execution_count": 16,
     "metadata": {},
     "output_type": "execute_result"
    }
   ],
   "source": [
    "data"
   ]
  },
  {
   "cell_type": "markdown",
   "id": "c6285cb1",
   "metadata": {
    "id": "_TQjqgglYr9o",
    "papermill": {
     "duration": 0.018094,
     "end_time": "2024-11-16T06:35:41.832608",
     "exception": false,
     "start_time": "2024-11-16T06:35:41.814514",
     "status": "completed"
    },
    "tags": []
   },
   "source": [
    "## Use of slang words"
   ]
  },
  {
   "cell_type": "code",
   "execution_count": 17,
   "id": "fc40826e",
   "metadata": {
    "execution": {
     "iopub.execute_input": "2024-11-16T06:35:41.870664Z",
     "iopub.status.busy": "2024-11-16T06:35:41.870132Z",
     "iopub.status.idle": "2024-11-16T06:35:41.883242Z",
     "shell.execute_reply": "2024-11-16T06:35:41.882418Z"
    },
    "id": "2uADCdQCYvS5",
    "papermill": {
     "duration": 0.034455,
     "end_time": "2024-11-16T06:35:41.885178",
     "exception": false,
     "start_time": "2024-11-16T06:35:41.850723",
     "status": "completed"
    },
    "tags": []
   },
   "outputs": [],
   "source": [
    "slang_dict = {\n",
    "\n",
    "    \"AFAIK\": \"As Far As I Know\",\n",
    "\n",
    "    \"AFK\": \"Away From Keyboard\",\n",
    "\n",
    "    \"ASAP\": \"As Soon As Possible\",\n",
    "\n",
    "    \"ATK\": \"At The Keyboard\",\n",
    "\n",
    "    \"ATM\": \"At The Moment\",\n",
    "\n",
    "    \"A3\": \"Anytime, Anywhere, Anyplace\",\n",
    "\n",
    "    \"BAK\": \"Back At Keyboard\",\n",
    "\n",
    "    \"BBL\": \"Be Back Later\",\n",
    "\n",
    "    \"BBS\": \"Be Back Soon\",\n",
    "\n",
    "    \"BFN\": \"Bye For Now\",\n",
    "\n",
    "    \"B4N\": \"Bye For Now\",\n",
    "\n",
    "    \"BRB\": \"Be Right Back\",\n",
    "\n",
    "    \"BRT\": \"Be Right There\",\n",
    "\n",
    "    \"BTW\": \"By The Way\",\n",
    "\n",
    "    \"B4\": \"Before\",\n",
    "\n",
    "    \"CU\": \"See You\",\n",
    "\n",
    "    \"CUL8R\": \"See You Later\",\n",
    "\n",
    "    \"CYA\": \"See You\",\n",
    "\n",
    "    \"FAQ\": \"Frequently Asked Questions\",\n",
    "\n",
    "    \"FC\": \"Fingers Crossed\",\n",
    "\n",
    "    \"FWIW\": \"For What It's Worth\",\n",
    "\n",
    "    \"FYI\": \"For Your Information\",\n",
    "\n",
    "    \"GAL\": \"Get A Life\",\n",
    "\n",
    "    \"GG\": \"Good Game\",\n",
    "\n",
    "    \"GN\": \"Good Night\",\n",
    "\n",
    "    \"GMTA\": \"Great Minds Think Alike\",\n",
    "\n",
    "    \"GR8\": \"Great!\",\n",
    "\n",
    "    \"G9\": \"Genius\",\n",
    "\n",
    "    \"IC\": \"I See\",\n",
    "\n",
    "    \"ICQ\": \"I Seek you (also a chat program)\",\n",
    "\n",
    "    \"ILU\": \"I Love You\",\n",
    "\n",
    "    \"IMHO\": \"In My Honest/Humble Opinion\",\n",
    "\n",
    "    \"IMO\": \"In My Opinion\",\n",
    "\n",
    "    \"IOW\": \"In Other Words\",\n",
    "\n",
    "    \"IRL\": \"In Real Life\",\n",
    "\n",
    "    \"KISS\": \"Keep It Simple, Stupid\",\n",
    "\n",
    "    \"LDR\": \"Long Distance Relationship\",\n",
    "\n",
    "    \"LMAO\": \"Laugh My A.. Off\",\n",
    "\n",
    "    \"LOL\": \"Laughing Out Loud\",\n",
    "\n",
    "    \"LTNS\": \"Long Time No See\",\n",
    "\n",
    "    \"L8R\": \"Later\",\n",
    "\n",
    "    \"MTE\": \"My Thoughts Exactly\",\n",
    "\n",
    "    \"M8\": \"Mate\",\n",
    "\n",
    "    \"NRN\": \"No Reply Necessary\",\n",
    "\n",
    "    \"OIC\": \"Oh I See\",\n",
    "\n",
    "    \"PITA\": \"Pain In The A..\",\n",
    "\n",
    "    \"PRT\": \"Party\",\n",
    "\n",
    "    \"PRW\": \"Parents Are Watching\",\n",
    "\n",
    "    \"QPSA?\": \"Que Pasa?\",\n",
    "\n",
    "    \"ROFL\": \"Rolling On The Floor Laughing\",\n",
    "\n",
    "    \"ROFLOL\": \"Rolling On The Floor Laughing Out Loud\",\n",
    "\n",
    "    \"ROTFLMAO\": \"Rolling On The Floor Laughing My A.. Off\",\n",
    "\n",
    "    \"SK8\": \"Skate\",\n",
    "\n",
    "    \"STATS\": \"Your sex and age\",\n",
    "\n",
    "    \"ASL\": \"Age, Sex, Location\",\n",
    "\n",
    "    \"THX\": \"Thank You\",\n",
    "\n",
    "    \"TTFN\": \"Ta-Ta For Now!\",\n",
    "\n",
    "}"
   ]
  },
  {
   "cell_type": "code",
   "execution_count": 18,
   "id": "314202cf",
   "metadata": {
    "execution": {
     "iopub.execute_input": "2024-11-16T06:35:41.923113Z",
     "iopub.status.busy": "2024-11-16T06:35:41.922365Z",
     "iopub.status.idle": "2024-11-16T06:35:41.928329Z",
     "shell.execute_reply": "2024-11-16T06:35:41.927496Z"
    },
    "id": "pNjVbrZsYzbs",
    "papermill": {
     "duration": 0.026788,
     "end_time": "2024-11-16T06:35:41.930190",
     "exception": false,
     "start_time": "2024-11-16T06:35:41.903402",
     "status": "completed"
    },
    "tags": []
   },
   "outputs": [],
   "source": [
    "def slang(text):\n",
    "\n",
    "  new_text=[]\n",
    "\n",
    "  for w in text.split():\n",
    "\n",
    "    if w.upper() in slang_dict:\n",
    "\n",
    "      new_text.append(slang_dict[w.upper()])\n",
    "\n",
    "    else:\n",
    "\n",
    "      new_text.append(w)\n",
    "\n",
    "  return \" \".join(new_text)"
   ]
  },
  {
   "cell_type": "code",
   "execution_count": 19,
   "id": "1985787e",
   "metadata": {
    "execution": {
     "iopub.execute_input": "2024-11-16T06:35:41.967965Z",
     "iopub.status.busy": "2024-11-16T06:35:41.967623Z",
     "iopub.status.idle": "2024-11-16T06:35:41.994346Z",
     "shell.execute_reply": "2024-11-16T06:35:41.993476Z"
    },
    "id": "FG-9ZblqZUv1",
    "papermill": {
     "duration": 0.048283,
     "end_time": "2024-11-16T06:35:41.996635",
     "exception": false,
     "start_time": "2024-11-16T06:35:41.948352",
     "status": "completed"
    },
    "tags": []
   },
   "outputs": [],
   "source": [
    "data['text']=data['text'].apply(slang).str.strip()"
   ]
  },
  {
   "cell_type": "code",
   "execution_count": 20,
   "id": "87338bf2",
   "metadata": {
    "execution": {
     "iopub.execute_input": "2024-11-16T06:35:42.038761Z",
     "iopub.status.busy": "2024-11-16T06:35:42.038394Z",
     "iopub.status.idle": "2024-11-16T06:35:42.052410Z",
     "shell.execute_reply": "2024-11-16T06:35:42.051480Z"
    },
    "id": "tqMskaSNZYnI",
    "outputId": "07150863-cea7-467b-bb37-1984b4f50b7f",
    "papermill": {
     "duration": 0.034969,
     "end_time": "2024-11-16T06:35:42.054309",
     "exception": false,
     "start_time": "2024-11-16T06:35:42.019340",
     "status": "completed"
    },
    "tags": []
   },
   "outputs": [
    {
     "data": {
      "text/html": [
       "<div>\n",
       "<style scoped>\n",
       "    .dataframe tbody tr th:only-of-type {\n",
       "        vertical-align: middle;\n",
       "    }\n",
       "\n",
       "    .dataframe tbody tr th {\n",
       "        vertical-align: top;\n",
       "    }\n",
       "\n",
       "    .dataframe thead th {\n",
       "        text-align: right;\n",
       "    }\n",
       "</style>\n",
       "<table border=\"1\" class=\"dataframe\">\n",
       "  <thead>\n",
       "    <tr style=\"text-align: right;\">\n",
       "      <th></th>\n",
       "      <th>text</th>\n",
       "      <th>Anger</th>\n",
       "      <th>Fear</th>\n",
       "      <th>Joy</th>\n",
       "      <th>Sadness</th>\n",
       "      <th>Surprise</th>\n",
       "    </tr>\n",
       "  </thead>\n",
       "  <tbody>\n",
       "    <tr>\n",
       "      <th>0</th>\n",
       "      <td>but not very happy</td>\n",
       "      <td>0</td>\n",
       "      <td>0</td>\n",
       "      <td>1</td>\n",
       "      <td>1</td>\n",
       "      <td>0</td>\n",
       "    </tr>\n",
       "    <tr>\n",
       "      <th>1</th>\n",
       "      <td>well shes not gon na last the whole song like ...</td>\n",
       "      <td>0</td>\n",
       "      <td>0</td>\n",
       "      <td>1</td>\n",
       "      <td>0</td>\n",
       "      <td>0</td>\n",
       "    </tr>\n",
       "    <tr>\n",
       "      <th>2</th>\n",
       "      <td>she sat at her papas recliner sofa only to mov...</td>\n",
       "      <td>0</td>\n",
       "      <td>0</td>\n",
       "      <td>0</td>\n",
       "      <td>0</td>\n",
       "      <td>0</td>\n",
       "    </tr>\n",
       "    <tr>\n",
       "      <th>3</th>\n",
       "      <td>yes the oklahoma city bombing</td>\n",
       "      <td>1</td>\n",
       "      <td>1</td>\n",
       "      <td>0</td>\n",
       "      <td>1</td>\n",
       "      <td>1</td>\n",
       "    </tr>\n",
       "    <tr>\n",
       "      <th>4</th>\n",
       "      <td>they were dancing to bolero</td>\n",
       "      <td>0</td>\n",
       "      <td>0</td>\n",
       "      <td>1</td>\n",
       "      <td>0</td>\n",
       "      <td>0</td>\n",
       "    </tr>\n",
       "    <tr>\n",
       "      <th>...</th>\n",
       "      <td>...</td>\n",
       "      <td>...</td>\n",
       "      <td>...</td>\n",
       "      <td>...</td>\n",
       "      <td>...</td>\n",
       "      <td>...</td>\n",
       "    </tr>\n",
       "    <tr>\n",
       "      <th>2763</th>\n",
       "      <td>yeah but did you just find that</td>\n",
       "      <td>0</td>\n",
       "      <td>1</td>\n",
       "      <td>0</td>\n",
       "      <td>0</td>\n",
       "      <td>1</td>\n",
       "    </tr>\n",
       "    <tr>\n",
       "      <th>2764</th>\n",
       "      <td>i did as little as possible with my right hand...</td>\n",
       "      <td>0</td>\n",
       "      <td>0</td>\n",
       "      <td>0</td>\n",
       "      <td>0</td>\n",
       "      <td>0</td>\n",
       "    </tr>\n",
       "    <tr>\n",
       "      <th>2765</th>\n",
       "      <td>okay that sucks right</td>\n",
       "      <td>1</td>\n",
       "      <td>0</td>\n",
       "      <td>0</td>\n",
       "      <td>1</td>\n",
       "      <td>0</td>\n",
       "    </tr>\n",
       "    <tr>\n",
       "      <th>2766</th>\n",
       "      <td>the spark leaped through his body into mine an...</td>\n",
       "      <td>0</td>\n",
       "      <td>1</td>\n",
       "      <td>0</td>\n",
       "      <td>0</td>\n",
       "      <td>1</td>\n",
       "    </tr>\n",
       "    <tr>\n",
       "      <th>2767</th>\n",
       "      <td>he had 4 inches and 40 pounds on me and i stil...</td>\n",
       "      <td>0</td>\n",
       "      <td>0</td>\n",
       "      <td>1</td>\n",
       "      <td>0</td>\n",
       "      <td>1</td>\n",
       "    </tr>\n",
       "  </tbody>\n",
       "</table>\n",
       "<p>2768 rows × 6 columns</p>\n",
       "</div>"
      ],
      "text/plain": [
       "                                                   text  Anger  Fear  Joy  \\\n",
       "0                                    but not very happy      0     0    1   \n",
       "1     well shes not gon na last the whole song like ...      0     0    1   \n",
       "2     she sat at her papas recliner sofa only to mov...      0     0    0   \n",
       "3                         yes the oklahoma city bombing      1     1    0   \n",
       "4                           they were dancing to bolero      0     0    1   \n",
       "...                                                 ...    ...   ...  ...   \n",
       "2763                    yeah but did you just find that      0     1    0   \n",
       "2764  i did as little as possible with my right hand...      0     0    0   \n",
       "2765                              okay that sucks right      1     0    0   \n",
       "2766  the spark leaped through his body into mine an...      0     1    0   \n",
       "2767  he had 4 inches and 40 pounds on me and i stil...      0     0    1   \n",
       "\n",
       "      Sadness  Surprise  \n",
       "0           1         0  \n",
       "1           0         0  \n",
       "2           0         0  \n",
       "3           1         1  \n",
       "4           0         0  \n",
       "...       ...       ...  \n",
       "2763        0         1  \n",
       "2764        0         0  \n",
       "2765        1         0  \n",
       "2766        0         1  \n",
       "2767        0         1  \n",
       "\n",
       "[2768 rows x 6 columns]"
      ]
     },
     "execution_count": 20,
     "metadata": {},
     "output_type": "execute_result"
    }
   ],
   "source": [
    "data"
   ]
  },
  {
   "cell_type": "markdown",
   "id": "8c6e2352",
   "metadata": {
    "id": "W0hFIZVor8eD",
    "papermill": {
     "duration": 0.01816,
     "end_time": "2024-11-16T06:35:42.090821",
     "exception": false,
     "start_time": "2024-11-16T06:35:42.072661",
     "status": "completed"
    },
    "tags": []
   },
   "source": [
    "# removing url"
   ]
  },
  {
   "cell_type": "code",
   "execution_count": 21,
   "id": "5fa2d524",
   "metadata": {
    "execution": {
     "iopub.execute_input": "2024-11-16T06:35:42.129426Z",
     "iopub.status.busy": "2024-11-16T06:35:42.128619Z",
     "iopub.status.idle": "2024-11-16T06:35:42.133721Z",
     "shell.execute_reply": "2024-11-16T06:35:42.132851Z"
    },
    "id": "hueIv5DMaoYx",
    "papermill": {
     "duration": 0.026452,
     "end_time": "2024-11-16T06:35:42.135589",
     "exception": false,
     "start_time": "2024-11-16T06:35:42.109137",
     "status": "completed"
    },
    "tags": []
   },
   "outputs": [],
   "source": [
    "import re\n",
    "\n",
    "def url(text):\n",
    "\n",
    "  pattern=re.compile('https?://\\S+|www.\\.\\S+')\n",
    "\n",
    "  return pattern.sub('',text)"
   ]
  },
  {
   "cell_type": "code",
   "execution_count": 22,
   "id": "0a23d102",
   "metadata": {
    "execution": {
     "iopub.execute_input": "2024-11-16T06:35:42.173489Z",
     "iopub.status.busy": "2024-11-16T06:35:42.173179Z",
     "iopub.status.idle": "2024-11-16T06:35:42.187067Z",
     "shell.execute_reply": "2024-11-16T06:35:42.186150Z"
    },
    "id": "qNcdhPZPsX33",
    "papermill": {
     "duration": 0.034924,
     "end_time": "2024-11-16T06:35:42.188991",
     "exception": false,
     "start_time": "2024-11-16T06:35:42.154067",
     "status": "completed"
    },
    "tags": []
   },
   "outputs": [],
   "source": [
    "data['text']=data['text'].apply(url)"
   ]
  },
  {
   "cell_type": "code",
   "execution_count": 23,
   "id": "e1d45a97",
   "metadata": {
    "execution": {
     "iopub.execute_input": "2024-11-16T06:35:42.227518Z",
     "iopub.status.busy": "2024-11-16T06:35:42.226880Z",
     "iopub.status.idle": "2024-11-16T06:35:42.240401Z",
     "shell.execute_reply": "2024-11-16T06:35:42.239509Z"
    },
    "id": "FddvbSggsgIG",
    "outputId": "f446546c-a8e7-4359-da1f-6fa5bc37b8ff",
    "papermill": {
     "duration": 0.034544,
     "end_time": "2024-11-16T06:35:42.242219",
     "exception": false,
     "start_time": "2024-11-16T06:35:42.207675",
     "status": "completed"
    },
    "tags": []
   },
   "outputs": [
    {
     "data": {
      "text/html": [
       "<div>\n",
       "<style scoped>\n",
       "    .dataframe tbody tr th:only-of-type {\n",
       "        vertical-align: middle;\n",
       "    }\n",
       "\n",
       "    .dataframe tbody tr th {\n",
       "        vertical-align: top;\n",
       "    }\n",
       "\n",
       "    .dataframe thead th {\n",
       "        text-align: right;\n",
       "    }\n",
       "</style>\n",
       "<table border=\"1\" class=\"dataframe\">\n",
       "  <thead>\n",
       "    <tr style=\"text-align: right;\">\n",
       "      <th></th>\n",
       "      <th>text</th>\n",
       "      <th>Anger</th>\n",
       "      <th>Fear</th>\n",
       "      <th>Joy</th>\n",
       "      <th>Sadness</th>\n",
       "      <th>Surprise</th>\n",
       "    </tr>\n",
       "  </thead>\n",
       "  <tbody>\n",
       "    <tr>\n",
       "      <th>0</th>\n",
       "      <td>but not very happy</td>\n",
       "      <td>0</td>\n",
       "      <td>0</td>\n",
       "      <td>1</td>\n",
       "      <td>1</td>\n",
       "      <td>0</td>\n",
       "    </tr>\n",
       "    <tr>\n",
       "      <th>1</th>\n",
       "      <td>well shes not gon na last the whole song like ...</td>\n",
       "      <td>0</td>\n",
       "      <td>0</td>\n",
       "      <td>1</td>\n",
       "      <td>0</td>\n",
       "      <td>0</td>\n",
       "    </tr>\n",
       "    <tr>\n",
       "      <th>2</th>\n",
       "      <td>she sat at her papas recliner sofa only to mov...</td>\n",
       "      <td>0</td>\n",
       "      <td>0</td>\n",
       "      <td>0</td>\n",
       "      <td>0</td>\n",
       "      <td>0</td>\n",
       "    </tr>\n",
       "    <tr>\n",
       "      <th>3</th>\n",
       "      <td>yes the oklahoma city bombing</td>\n",
       "      <td>1</td>\n",
       "      <td>1</td>\n",
       "      <td>0</td>\n",
       "      <td>1</td>\n",
       "      <td>1</td>\n",
       "    </tr>\n",
       "    <tr>\n",
       "      <th>4</th>\n",
       "      <td>they were dancing to bolero</td>\n",
       "      <td>0</td>\n",
       "      <td>0</td>\n",
       "      <td>1</td>\n",
       "      <td>0</td>\n",
       "      <td>0</td>\n",
       "    </tr>\n",
       "    <tr>\n",
       "      <th>...</th>\n",
       "      <td>...</td>\n",
       "      <td>...</td>\n",
       "      <td>...</td>\n",
       "      <td>...</td>\n",
       "      <td>...</td>\n",
       "      <td>...</td>\n",
       "    </tr>\n",
       "    <tr>\n",
       "      <th>2763</th>\n",
       "      <td>yeah but did you just find that</td>\n",
       "      <td>0</td>\n",
       "      <td>1</td>\n",
       "      <td>0</td>\n",
       "      <td>0</td>\n",
       "      <td>1</td>\n",
       "    </tr>\n",
       "    <tr>\n",
       "      <th>2764</th>\n",
       "      <td>i did as little as possible with my right hand...</td>\n",
       "      <td>0</td>\n",
       "      <td>0</td>\n",
       "      <td>0</td>\n",
       "      <td>0</td>\n",
       "      <td>0</td>\n",
       "    </tr>\n",
       "    <tr>\n",
       "      <th>2765</th>\n",
       "      <td>okay that sucks right</td>\n",
       "      <td>1</td>\n",
       "      <td>0</td>\n",
       "      <td>0</td>\n",
       "      <td>1</td>\n",
       "      <td>0</td>\n",
       "    </tr>\n",
       "    <tr>\n",
       "      <th>2766</th>\n",
       "      <td>the spark leaped through his body into mine an...</td>\n",
       "      <td>0</td>\n",
       "      <td>1</td>\n",
       "      <td>0</td>\n",
       "      <td>0</td>\n",
       "      <td>1</td>\n",
       "    </tr>\n",
       "    <tr>\n",
       "      <th>2767</th>\n",
       "      <td>he had 4 inches and 40 pounds on me and i stil...</td>\n",
       "      <td>0</td>\n",
       "      <td>0</td>\n",
       "      <td>1</td>\n",
       "      <td>0</td>\n",
       "      <td>1</td>\n",
       "    </tr>\n",
       "  </tbody>\n",
       "</table>\n",
       "<p>2768 rows × 6 columns</p>\n",
       "</div>"
      ],
      "text/plain": [
       "                                                   text  Anger  Fear  Joy  \\\n",
       "0                                    but not very happy      0     0    1   \n",
       "1     well shes not gon na last the whole song like ...      0     0    1   \n",
       "2     she sat at her papas recliner sofa only to mov...      0     0    0   \n",
       "3                         yes the oklahoma city bombing      1     1    0   \n",
       "4                           they were dancing to bolero      0     0    1   \n",
       "...                                                 ...    ...   ...  ...   \n",
       "2763                    yeah but did you just find that      0     1    0   \n",
       "2764  i did as little as possible with my right hand...      0     0    0   \n",
       "2765                              okay that sucks right      1     0    0   \n",
       "2766  the spark leaped through his body into mine an...      0     1    0   \n",
       "2767  he had 4 inches and 40 pounds on me and i stil...      0     0    1   \n",
       "\n",
       "      Sadness  Surprise  \n",
       "0           1         0  \n",
       "1           0         0  \n",
       "2           0         0  \n",
       "3           1         1  \n",
       "4           0         0  \n",
       "...       ...       ...  \n",
       "2763        0         1  \n",
       "2764        0         0  \n",
       "2765        1         0  \n",
       "2766        0         1  \n",
       "2767        0         1  \n",
       "\n",
       "[2768 rows x 6 columns]"
      ]
     },
     "execution_count": 23,
     "metadata": {},
     "output_type": "execute_result"
    }
   ],
   "source": [
    "data"
   ]
  },
  {
   "cell_type": "markdown",
   "id": "b197b23b",
   "metadata": {
    "id": "N7LXxpJadldu",
    "papermill": {
     "duration": 0.018581,
     "end_time": "2024-11-16T06:35:42.279962",
     "exception": false,
     "start_time": "2024-11-16T06:35:42.261381",
     "status": "completed"
    },
    "tags": []
   },
   "source": [
    "## removing stopwords"
   ]
  },
  {
   "cell_type": "code",
   "execution_count": 24,
   "id": "01e04614",
   "metadata": {
    "execution": {
     "iopub.execute_input": "2024-11-16T06:35:42.319762Z",
     "iopub.status.busy": "2024-11-16T06:35:42.318822Z",
     "iopub.status.idle": "2024-11-16T06:35:43.924200Z",
     "shell.execute_reply": "2024-11-16T06:35:43.923419Z"
    },
    "id": "yRZT5p87cZ09",
    "outputId": "23996394-e155-4bf9-856f-e9f82e045c0b",
    "papermill": {
     "duration": 1.627785,
     "end_time": "2024-11-16T06:35:43.926480",
     "exception": false,
     "start_time": "2024-11-16T06:35:42.298695",
     "status": "completed"
    },
    "tags": []
   },
   "outputs": [],
   "source": [
    "# import nltk\n",
    "# nltk.download('stopwords')\n",
    "# from nltk.corpus import stopwords\n",
    "\n",
    "import nltk\n",
    "nltk.data.path.append('/kaggle/input/stopwords/stopwords.txt')"
   ]
  },
  {
   "cell_type": "code",
   "execution_count": 25,
   "id": "6e31a6bc",
   "metadata": {
    "execution": {
     "iopub.execute_input": "2024-11-16T06:35:43.965538Z",
     "iopub.status.busy": "2024-11-16T06:35:43.965051Z",
     "iopub.status.idle": "2024-11-16T06:35:43.973823Z",
     "shell.execute_reply": "2024-11-16T06:35:43.973126Z"
    },
    "id": "hL67ZcXTcbM8",
    "papermill": {
     "duration": 0.030308,
     "end_time": "2024-11-16T06:35:43.975739",
     "exception": false,
     "start_time": "2024-11-16T06:35:43.945431",
     "status": "completed"
    },
    "tags": []
   },
   "outputs": [],
   "source": [
    "from nltk.corpus import stopwords\n",
    "stopwords=stopwords.words('english')"
   ]
  },
  {
   "cell_type": "code",
   "execution_count": 26,
   "id": "fb6129c8",
   "metadata": {
    "execution": {
     "iopub.execute_input": "2024-11-16T06:35:44.014846Z",
     "iopub.status.busy": "2024-11-16T06:35:44.014141Z",
     "iopub.status.idle": "2024-11-16T06:35:44.018972Z",
     "shell.execute_reply": "2024-11-16T06:35:44.018168Z"
    },
    "id": "K2udavLmswlk",
    "papermill": {
     "duration": 0.026109,
     "end_time": "2024-11-16T06:35:44.020814",
     "exception": false,
     "start_time": "2024-11-16T06:35:43.994705",
     "status": "completed"
    },
    "tags": []
   },
   "outputs": [],
   "source": [
    "def stop(text):\n",
    "\n",
    "  new_list=[]\n",
    "\n",
    "  for x in text.split():\n",
    "\n",
    "    if x in stopwords:\n",
    "\n",
    "      new_list.append(\"\")\n",
    "\n",
    "    else:\n",
    "\n",
    "      new_list.append(x)\n",
    "\n",
    "  return \" \".join(new_list)"
   ]
  },
  {
   "cell_type": "code",
   "execution_count": 27,
   "id": "ce8f8186",
   "metadata": {
    "execution": {
     "iopub.execute_input": "2024-11-16T06:35:44.059084Z",
     "iopub.status.busy": "2024-11-16T06:35:44.058800Z",
     "iopub.status.idle": "2024-11-16T06:35:44.151783Z",
     "shell.execute_reply": "2024-11-16T06:35:44.150980Z"
    },
    "id": "zC9_irn07r4v",
    "outputId": "13e06ea9-6e57-4722-bccb-7a7c47aedada",
    "papermill": {
     "duration": 0.114118,
     "end_time": "2024-11-16T06:35:44.153619",
     "exception": false,
     "start_time": "2024-11-16T06:35:44.039501",
     "status": "completed"
    },
    "tags": []
   },
   "outputs": [
    {
     "data": {
      "text/html": [
       "<div>\n",
       "<style scoped>\n",
       "    .dataframe tbody tr th:only-of-type {\n",
       "        vertical-align: middle;\n",
       "    }\n",
       "\n",
       "    .dataframe tbody tr th {\n",
       "        vertical-align: top;\n",
       "    }\n",
       "\n",
       "    .dataframe thead th {\n",
       "        text-align: right;\n",
       "    }\n",
       "</style>\n",
       "<table border=\"1\" class=\"dataframe\">\n",
       "  <thead>\n",
       "    <tr style=\"text-align: right;\">\n",
       "      <th></th>\n",
       "      <th>text</th>\n",
       "      <th>Anger</th>\n",
       "      <th>Fear</th>\n",
       "      <th>Joy</th>\n",
       "      <th>Sadness</th>\n",
       "      <th>Surprise</th>\n",
       "    </tr>\n",
       "  </thead>\n",
       "  <tbody>\n",
       "    <tr>\n",
       "      <th>0</th>\n",
       "      <td>happy</td>\n",
       "      <td>0</td>\n",
       "      <td>0</td>\n",
       "      <td>1</td>\n",
       "      <td>1</td>\n",
       "      <td>0</td>\n",
       "    </tr>\n",
       "    <tr>\n",
       "      <th>1</th>\n",
       "      <td>well shes  gon na last  whole song like   sinc...</td>\n",
       "      <td>0</td>\n",
       "      <td>0</td>\n",
       "      <td>1</td>\n",
       "      <td>0</td>\n",
       "      <td>0</td>\n",
       "    </tr>\n",
       "    <tr>\n",
       "      <th>2</th>\n",
       "      <td>sat   papas recliner sofa   move next    star...</td>\n",
       "      <td>0</td>\n",
       "      <td>0</td>\n",
       "      <td>0</td>\n",
       "      <td>0</td>\n",
       "      <td>0</td>\n",
       "    </tr>\n",
       "    <tr>\n",
       "      <th>3</th>\n",
       "      <td>yes  oklahoma city bombing</td>\n",
       "      <td>1</td>\n",
       "      <td>1</td>\n",
       "      <td>0</td>\n",
       "      <td>1</td>\n",
       "      <td>1</td>\n",
       "    </tr>\n",
       "    <tr>\n",
       "      <th>4</th>\n",
       "      <td>dancing  bolero</td>\n",
       "      <td>0</td>\n",
       "      <td>0</td>\n",
       "      <td>1</td>\n",
       "      <td>0</td>\n",
       "      <td>0</td>\n",
       "    </tr>\n",
       "    <tr>\n",
       "      <th>...</th>\n",
       "      <td>...</td>\n",
       "      <td>...</td>\n",
       "      <td>...</td>\n",
       "      <td>...</td>\n",
       "      <td>...</td>\n",
       "      <td>...</td>\n",
       "    </tr>\n",
       "    <tr>\n",
       "      <th>2763</th>\n",
       "      <td>yeah     find</td>\n",
       "      <td>0</td>\n",
       "      <td>1</td>\n",
       "      <td>0</td>\n",
       "      <td>0</td>\n",
       "      <td>1</td>\n",
       "    </tr>\n",
       "    <tr>\n",
       "      <th>2764</th>\n",
       "      <td>little  possible   right hand  sunday  took...</td>\n",
       "      <td>0</td>\n",
       "      <td>0</td>\n",
       "      <td>0</td>\n",
       "      <td>0</td>\n",
       "      <td>0</td>\n",
       "    </tr>\n",
       "    <tr>\n",
       "      <th>2765</th>\n",
       "      <td>okay  sucks right</td>\n",
       "      <td>1</td>\n",
       "      <td>0</td>\n",
       "      <td>0</td>\n",
       "      <td>1</td>\n",
       "      <td>0</td>\n",
       "    </tr>\n",
       "    <tr>\n",
       "      <th>2766</th>\n",
       "      <td>spark leaped   body  mine     hand   cart</td>\n",
       "      <td>0</td>\n",
       "      <td>1</td>\n",
       "      <td>0</td>\n",
       "      <td>0</td>\n",
       "      <td>1</td>\n",
       "    </tr>\n",
       "    <tr>\n",
       "      <th>2767</th>\n",
       "      <td>4 inches  40 pounds     still</td>\n",
       "      <td>0</td>\n",
       "      <td>0</td>\n",
       "      <td>1</td>\n",
       "      <td>0</td>\n",
       "      <td>1</td>\n",
       "    </tr>\n",
       "  </tbody>\n",
       "</table>\n",
       "<p>2768 rows × 6 columns</p>\n",
       "</div>"
      ],
      "text/plain": [
       "                                                   text  Anger  Fear  Joy  \\\n",
       "0                                                 happy      0     0    1   \n",
       "1     well shes  gon na last  whole song like   sinc...      0     0    1   \n",
       "2      sat   papas recliner sofa   move next    star...      0     0    0   \n",
       "3                            yes  oklahoma city bombing      1     1    0   \n",
       "4                                       dancing  bolero      0     0    1   \n",
       "...                                                 ...    ...   ...  ...   \n",
       "2763                                     yeah     find       0     1    0   \n",
       "2764     little  possible   right hand  sunday  took...      0     0    0   \n",
       "2765                                  okay  sucks right      1     0    0   \n",
       "2766          spark leaped   body  mine     hand   cart      0     1    0   \n",
       "2767                     4 inches  40 pounds     still       0     0    1   \n",
       "\n",
       "      Sadness  Surprise  \n",
       "0           1         0  \n",
       "1           0         0  \n",
       "2           0         0  \n",
       "3           1         1  \n",
       "4           0         0  \n",
       "...       ...       ...  \n",
       "2763        0         1  \n",
       "2764        0         0  \n",
       "2765        1         0  \n",
       "2766        0         1  \n",
       "2767        0         1  \n",
       "\n",
       "[2768 rows x 6 columns]"
      ]
     },
     "execution_count": 27,
     "metadata": {},
     "output_type": "execute_result"
    }
   ],
   "source": [
    "data['text']=data['text'].apply(stop)\n",
    "\n",
    "data"
   ]
  },
  {
   "cell_type": "markdown",
   "id": "066e18c2",
   "metadata": {
    "id": "lpP8YntlIiWR",
    "papermill": {
     "duration": 0.018927,
     "end_time": "2024-11-16T06:35:44.191635",
     "exception": false,
     "start_time": "2024-11-16T06:35:44.172708",
     "status": "completed"
    },
    "tags": []
   },
   "source": [
    "## remove numbers"
   ]
  },
  {
   "cell_type": "code",
   "execution_count": 28,
   "id": "e529309b",
   "metadata": {
    "execution": {
     "iopub.execute_input": "2024-11-16T06:35:44.231093Z",
     "iopub.status.busy": "2024-11-16T06:35:44.230805Z",
     "iopub.status.idle": "2024-11-16T06:35:44.234724Z",
     "shell.execute_reply": "2024-11-16T06:35:44.233875Z"
    },
    "id": "stC2j2_lIkqu",
    "papermill": {
     "duration": 0.02558,
     "end_time": "2024-11-16T06:35:44.236562",
     "exception": false,
     "start_time": "2024-11-16T06:35:44.210982",
     "status": "completed"
    },
    "tags": []
   },
   "outputs": [],
   "source": [
    "def remove_numbers(text):\n",
    "\n",
    "  return re.sub('[^a-zA-Z]',' ',text)"
   ]
  },
  {
   "cell_type": "code",
   "execution_count": 29,
   "id": "ede4d1c4",
   "metadata": {
    "execution": {
     "iopub.execute_input": "2024-11-16T06:35:44.275729Z",
     "iopub.status.busy": "2024-11-16T06:35:44.275172Z",
     "iopub.status.idle": "2024-11-16T06:35:44.299256Z",
     "shell.execute_reply": "2024-11-16T06:35:44.298406Z"
    },
    "id": "-VYB4LlTI6y_",
    "papermill": {
     "duration": 0.045505,
     "end_time": "2024-11-16T06:35:44.301065",
     "exception": false,
     "start_time": "2024-11-16T06:35:44.255560",
     "status": "completed"
    },
    "tags": []
   },
   "outputs": [],
   "source": [
    "data['text']=data['text'].apply(remove_numbers)"
   ]
  },
  {
   "cell_type": "markdown",
   "id": "993f849a",
   "metadata": {
    "id": "aQdR0xoHBiEA",
    "papermill": {
     "duration": 0.018883,
     "end_time": "2024-11-16T06:35:44.338725",
     "exception": false,
     "start_time": "2024-11-16T06:35:44.319842",
     "status": "completed"
    },
    "tags": []
   },
   "source": [
    "## correct spelling"
   ]
  },
  {
   "cell_type": "code",
   "execution_count": 30,
   "id": "710ed268",
   "metadata": {
    "execution": {
     "iopub.execute_input": "2024-11-16T06:35:44.378212Z",
     "iopub.status.busy": "2024-11-16T06:35:44.377701Z",
     "iopub.status.idle": "2024-11-16T06:35:44.420500Z",
     "shell.execute_reply": "2024-11-16T06:35:44.419769Z"
    },
    "id": "RnC5JfkaBouL",
    "papermill": {
     "duration": 0.065053,
     "end_time": "2024-11-16T06:35:44.422621",
     "exception": false,
     "start_time": "2024-11-16T06:35:44.357568",
     "status": "completed"
    },
    "tags": []
   },
   "outputs": [],
   "source": [
    "from textblob import TextBlob\n",
    "\n",
    "def correct_word(text):\n",
    "\n",
    "  return TextBlob(text).correct().string"
   ]
  },
  {
   "cell_type": "code",
   "execution_count": 31,
   "id": "30af82bf",
   "metadata": {
    "_kg_hide-output": true,
    "execution": {
     "iopub.execute_input": "2024-11-16T06:35:44.463351Z",
     "iopub.status.busy": "2024-11-16T06:35:44.462394Z",
     "iopub.status.idle": "2024-11-16T06:40:53.629532Z",
     "shell.execute_reply": "2024-11-16T06:40:53.628683Z"
    },
    "id": "ogbS2-pBB_eM",
    "papermill": {
     "duration": 309.189729,
     "end_time": "2024-11-16T06:40:53.631892",
     "exception": false,
     "start_time": "2024-11-16T06:35:44.442163",
     "status": "completed"
    },
    "tags": []
   },
   "outputs": [],
   "source": [
    "data['text']=data['text'].apply(correct_word)"
   ]
  },
  {
   "cell_type": "markdown",
   "id": "16b19168",
   "metadata": {
    "id": "wyWBLIKlw3ms",
    "papermill": {
     "duration": 0.019047,
     "end_time": "2024-11-16T06:40:53.670472",
     "exception": false,
     "start_time": "2024-11-16T06:40:53.651425",
     "status": "completed"
    },
    "tags": []
   },
   "source": [
    "## root word"
   ]
  },
  {
   "cell_type": "code",
   "execution_count": 32,
   "id": "6a9fdfaa",
   "metadata": {
    "execution": {
     "iopub.execute_input": "2024-11-16T06:40:53.710047Z",
     "iopub.status.busy": "2024-11-16T06:40:53.709722Z",
     "iopub.status.idle": "2024-11-16T06:40:53.716137Z",
     "shell.execute_reply": "2024-11-16T06:40:53.715307Z"
    },
    "id": "OsFn6EX-8Rsw",
    "outputId": "a398743f-736e-4fa4-9ab1-36a4553119ee",
    "papermill": {
     "duration": 0.028499,
     "end_time": "2024-11-16T06:40:53.717979",
     "exception": false,
     "start_time": "2024-11-16T06:40:53.689480",
     "status": "completed"
    },
    "tags": []
   },
   "outputs": [
    {
     "data": {
      "text/plain": [
       "array(['   happy',\n",
       "       'well she  on na last  whole song like   since in behind    audience can see   tarso pretty much  use  hand  push    lid  support  weight',\n",
       "       ' sat   papa decline sofa   move next    start clinging   arms',\n",
       "       ..., 'okay  sucks right',\n",
       "       ' spark leaped   body  mine     hand   cart',\n",
       "       '    inches     pounds     still '], dtype=object)"
      ]
     },
     "execution_count": 32,
     "metadata": {},
     "output_type": "execute_result"
    }
   ],
   "source": [
    "x=data['text'].values\n",
    "\n",
    "x"
   ]
  },
  {
   "cell_type": "code",
   "execution_count": 33,
   "id": "3bc87f11",
   "metadata": {
    "execution": {
     "iopub.execute_input": "2024-11-16T06:40:53.757742Z",
     "iopub.status.busy": "2024-11-16T06:40:53.756939Z",
     "iopub.status.idle": "2024-11-16T06:40:53.763822Z",
     "shell.execute_reply": "2024-11-16T06:40:53.762946Z"
    },
    "id": "cbkB9k2n8pNd",
    "outputId": "21c3d030-3e07-4fcf-f89d-aceead5c1231",
    "papermill": {
     "duration": 0.028845,
     "end_time": "2024-11-16T06:40:53.765803",
     "exception": false,
     "start_time": "2024-11-16T06:40:53.736958",
     "status": "completed"
    },
    "tags": []
   },
   "outputs": [
    {
     "data": {
      "text/plain": [
       "array([[0, 0, 1, 1, 0],\n",
       "       [0, 0, 1, 0, 0],\n",
       "       [0, 0, 0, 0, 0],\n",
       "       ...,\n",
       "       [1, 0, 0, 1, 0],\n",
       "       [0, 1, 0, 0, 1],\n",
       "       [0, 0, 1, 0, 1]])"
      ]
     },
     "execution_count": 33,
     "metadata": {},
     "output_type": "execute_result"
    }
   ],
   "source": [
    "y=data.iloc[:,1:].values\n",
    "\n",
    "y"
   ]
  },
  {
   "cell_type": "markdown",
   "id": "67fa3650",
   "metadata": {
    "id": "DBdcyw6kEJJT",
    "papermill": {
     "duration": 0.019135,
     "end_time": "2024-11-16T06:40:53.804920",
     "exception": false,
     "start_time": "2024-11-16T06:40:53.785785",
     "status": "completed"
    },
    "tags": []
   },
   "source": [
    "# BERT"
   ]
  },
  {
   "cell_type": "code",
   "execution_count": 34,
   "id": "d14f6391",
   "metadata": {
    "execution": {
     "iopub.execute_input": "2024-11-16T06:40:53.845772Z",
     "iopub.status.busy": "2024-11-16T06:40:53.845451Z",
     "iopub.status.idle": "2024-11-16T06:40:59.455085Z",
     "shell.execute_reply": "2024-11-16T06:40:59.454312Z"
    },
    "id": "4Y-y6J_IEPrA",
    "papermill": {
     "duration": 5.632285,
     "end_time": "2024-11-16T06:40:59.457456",
     "exception": false,
     "start_time": "2024-11-16T06:40:53.825171",
     "status": "completed"
    },
    "tags": []
   },
   "outputs": [],
   "source": [
    "from transformers import BertTokenizer, BertForSequenceClassification\n",
    "\n",
    "from torch.utils.data import DataLoader, Dataset\n",
    "\n",
    "from sklearn.model_selection import train_test_split\n",
    "\n",
    "import torch"
   ]
  },
  {
   "cell_type": "code",
   "execution_count": 35,
   "id": "fc618ecd",
   "metadata": {
    "execution": {
     "iopub.execute_input": "2024-11-16T06:40:59.499683Z",
     "iopub.status.busy": "2024-11-16T06:40:59.499199Z",
     "iopub.status.idle": "2024-11-16T06:40:59.592066Z",
     "shell.execute_reply": "2024-11-16T06:40:59.591040Z"
    },
    "id": "n7YCsJs1EfHr",
    "outputId": "f9829d70-3fe3-403a-9dec-096989858f03",
    "papermill": {
     "duration": 0.115937,
     "end_time": "2024-11-16T06:40:59.594255",
     "exception": false,
     "start_time": "2024-11-16T06:40:59.478318",
     "status": "completed"
    },
    "tags": []
   },
   "outputs": [],
   "source": [
    "class MultiLabelDataset(Dataset):\n",
    "\n",
    "    def __init__(self, texts, labels, tokenizer, max_len):\n",
    "\n",
    "        self.texts = texts\n",
    "\n",
    "        self.labels = labels\n",
    "\n",
    "        self.tokenizer = tokenizer\n",
    "\n",
    "        self.max_len = max_len\n",
    "\n",
    "\n",
    "\n",
    "    def __len__(self):\n",
    "\n",
    "        return len(self.texts)\n",
    "\n",
    "\n",
    "\n",
    "    def __getitem__(self, idx):\n",
    "\n",
    "        text = self.texts[idx]\n",
    "\n",
    "        label = self.labels[idx]\n",
    "\n",
    "\n",
    "\n",
    "        encoding = self.tokenizer.encode_plus(\n",
    "\n",
    "            text,\n",
    "\n",
    "            add_special_tokens=True,\n",
    "\n",
    "            max_length=self.max_len,\n",
    "\n",
    "            return_token_type_ids=False,\n",
    "\n",
    "            padding='max_length',\n",
    "\n",
    "            return_attention_mask=True,\n",
    "\n",
    "            return_tensors='pt',\n",
    "\n",
    "        )\n",
    "\n",
    "\n",
    "\n",
    "        return {\n",
    "\n",
    "            'input_ids': encoding['input_ids'].flatten(),\n",
    "\n",
    "            'attention_mask': encoding['attention_mask'].flatten(),\n",
    "\n",
    "            'labels': torch.tensor(label, dtype=torch.float)\n",
    "\n",
    "        }\n",
    "\n",
    "\n",
    "x_train, x_temp, y_train, y_temp = train_test_split(x, y, test_size=0.2, random_state=42)\n",
    "\n",
    "x_val, x_test, y_val, y_test = train_test_split(x_temp, y_temp, test_size=0.5, random_state=42)\n",
    "\n",
    "\n",
    "\n",
    "tokenizer = BertTokenizer.from_pretrained('/kaggle/input/bert-base-uncased')\n",
    "\n",
    "\n",
    "train_dataset = MultiLabelDataset(x_train, y_train, tokenizer, max_len=64)\n",
    "\n",
    "val_dataset = MultiLabelDataset(x_val, y_val, tokenizer, max_len=64)\n",
    "\n",
    "test_dataset = MultiLabelDataset(x_test, y_test, tokenizer, max_len=64)\n",
    "\n",
    "\n",
    "\n",
    "train_loader = DataLoader(train_dataset, batch_size=8, shuffle=True)\n",
    "\n",
    "val_loader = DataLoader(val_dataset, batch_size=8)\n",
    "\n",
    "test_loader = DataLoader(test_dataset, batch_size=8)"
   ]
  },
  {
   "cell_type": "code",
   "execution_count": 36,
   "id": "ff60d941",
   "metadata": {
    "execution": {
     "iopub.execute_input": "2024-11-16T06:40:59.634354Z",
     "iopub.status.busy": "2024-11-16T06:40:59.633993Z",
     "iopub.status.idle": "2024-11-16T06:41:02.371740Z",
     "shell.execute_reply": "2024-11-16T06:41:02.371003Z"
    },
    "id": "A3VBKTOZHHMa",
    "outputId": "75083d5c-96fd-4684-86f6-77c055f65baf",
    "papermill": {
     "duration": 2.759837,
     "end_time": "2024-11-16T06:41:02.373746",
     "exception": false,
     "start_time": "2024-11-16T06:40:59.613909",
     "status": "completed"
    },
    "tags": []
   },
   "outputs": [
    {
     "name": "stderr",
     "output_type": "stream",
     "text": [
      "Some weights of BertForSequenceClassification were not initialized from the model checkpoint at /kaggle/input/bert-base-uncased and are newly initialized: ['classifier.bias', 'classifier.weight']\n",
      "You should probably TRAIN this model on a down-stream task to be able to use it for predictions and inference.\n"
     ]
    }
   ],
   "source": [
    "model = BertForSequenceClassification.from_pretrained('/kaggle/input/bert-base-uncased', num_labels=y.shape[1])"
   ]
  },
  {
   "cell_type": "code",
   "execution_count": 37,
   "id": "e5612c69",
   "metadata": {
    "execution": {
     "iopub.execute_input": "2024-11-16T06:41:02.414266Z",
     "iopub.status.busy": "2024-11-16T06:41:02.413946Z",
     "iopub.status.idle": "2024-11-16T06:44:16.851753Z",
     "shell.execute_reply": "2024-11-16T06:44:16.850716Z"
    },
    "id": "UHVfBQOaHNHN",
    "outputId": "10988964-7fd0-49a1-becd-5529e20384af",
    "papermill": {
     "duration": 194.480718,
     "end_time": "2024-11-16T06:44:16.874137",
     "exception": false,
     "start_time": "2024-11-16T06:41:02.393419",
     "status": "completed"
    },
    "tags": []
   },
   "outputs": [
    {
     "name": "stderr",
     "output_type": "stream",
     "text": [
      "/opt/conda/lib/python3.10/site-packages/transformers/optimization.py:591: FutureWarning: This implementation of AdamW is deprecated and will be removed in a future version. Use the PyTorch implementation torch.optim.AdamW instead, or set `no_deprecation_warning=True` to disable this warning\n",
      "  warnings.warn(\n"
     ]
    },
    {
     "name": "stdout",
     "output_type": "stream",
     "text": [
      "Epoch 1, F1 score: 0.4527429726840232\n",
      "Epoch 2, F1 score: 0.5394782987386404\n",
      "Epoch 3, F1 score: 0.5798274113111211\n",
      "Epoch 4, F1 score: 0.61553395685878\n",
      "Epoch 5, F1 score: 0.6203769625685954\n",
      "Epoch 6, F1 score: 0.5862899829211781\n",
      "Epoch 7, F1 score: 0.6140600494145451\n",
      "Epoch 8, F1 score: 0.5657366676149181\n",
      "Epoch 9, F1 score: 0.5814087114052456\n",
      "Epoch 10, F1 score: 0.5895287235417502\n",
      "Early stopping: No improvement for several epochs.\n"
     ]
    }
   ],
   "source": [
    "from sklearn.metrics import f1_score\n",
    "from transformers import AdamW, get_linear_schedule_with_warmup\n",
    "import torch\n",
    "\n",
    "device = torch.device(\"cuda\" if torch.cuda.is_available() else \"cpu\")\n",
    "model.to(device)\n",
    "\n",
    "optimizer = AdamW(model.parameters(), lr=2e-5)\n",
    "total_steps = len(train_loader) * 10\n",
    "scheduler = get_linear_schedule_with_warmup(optimizer, num_warmup_steps=0, num_training_steps=total_steps)\n",
    "\n",
    "best_f1 = 0\n",
    "patience = 5\n",
    "patience_counter = 0\n",
    "\n",
    "for epoch in range(30):\n",
    "    model.train()\n",
    "    for batch in train_loader:\n",
    "        optimizer.zero_grad()\n",
    "\n",
    "        input_ids = batch['input_ids'].to(device)\n",
    "        attention_mask = batch['attention_mask'].to(device)\n",
    "        labels = batch['labels'].to(device)\n",
    "\n",
    "        outputs = model(input_ids=input_ids, attention_mask=attention_mask, labels=labels)\n",
    "        loss = outputs.loss\n",
    "        loss.backward()\n",
    "        optimizer.step()\n",
    "        scheduler.step()\n",
    "\n",
    "    model.eval()\n",
    "    all_predictions = []\n",
    "    all_labels = []\n",
    "\n",
    "    with torch.no_grad():\n",
    "        for batch in val_loader:\n",
    "            input_ids = batch['input_ids'].to(device)\n",
    "            attention_mask = batch['attention_mask'].to(device)\n",
    "            labels = batch['labels'].to(device)\n",
    "\n",
    "            outputs = model(input_ids=input_ids, attention_mask=attention_mask)\n",
    "            logits = outputs.logits\n",
    "            predictions = (torch.sigmoid(logits) > 0.5).int()\n",
    "\n",
    "            all_predictions.append(predictions)\n",
    "            all_labels.append(labels)\n",
    "\n",
    "    all_predictions = torch.cat([p.cpu() for p in all_predictions]).numpy()\n",
    "    all_labels = torch.cat([l.cpu() for l in all_labels]).numpy()\n",
    "\n",
    "    f1 = f1_score(all_labels, all_predictions, average='macro')\n",
    "    print(f'Epoch {epoch + 1}, F1 score: {f1}')\n",
    "\n",
    "    if f1 > best_f1:\n",
    "        best_f1 = f1\n",
    "        patience_counter = 0\n",
    "        model.save_pretrained('./best_model_bert')\n",
    "        tokenizer.save_pretrained('./best_model_bert')\n",
    "    else:\n",
    "        patience_counter += 1\n",
    "\n",
    "    if patience_counter >= patience:\n",
    "        print('Early stopping: No improvement for several epochs.')\n",
    "        break"
   ]
  },
  {
   "cell_type": "markdown",
   "id": "3b0268e6",
   "metadata": {
    "id": "uBADbR8ZFGN9",
    "papermill": {
     "duration": 0.019991,
     "end_time": "2024-11-16T06:44:16.914433",
     "exception": false,
     "start_time": "2024-11-16T06:44:16.894442",
     "status": "completed"
    },
    "tags": []
   },
   "source": [
    "epoch 5, f1_score=.63"
   ]
  },
  {
   "cell_type": "code",
   "execution_count": 38,
   "id": "3301f5c8",
   "metadata": {
    "execution": {
     "iopub.execute_input": "2024-11-16T06:44:16.956585Z",
     "iopub.status.busy": "2024-11-16T06:44:16.955949Z",
     "iopub.status.idle": "2024-11-16T06:44:34.575200Z",
     "shell.execute_reply": "2024-11-16T06:44:34.574314Z"
    },
    "id": "sZBUzaotHiJN",
    "papermill": {
     "duration": 17.643253,
     "end_time": "2024-11-16T06:44:34.577774",
     "exception": false,
     "start_time": "2024-11-16T06:44:16.934521",
     "status": "completed"
    },
    "tags": []
   },
   "outputs": [],
   "source": [
    "import numpy as np\n",
    "\n",
    "model = BertForSequenceClassification.from_pretrained('/kaggle/input/berttest/best_model_bert')\n",
    "\n",
    "model.eval()\n",
    "\n",
    "predictions, true_labels = [], []\n",
    "\n",
    "\n",
    "\n",
    "with torch.no_grad():\n",
    "\n",
    "    for batch in test_loader:\n",
    "\n",
    "        input_ids = batch['input_ids']\n",
    "\n",
    "        attention_mask = batch['attention_mask']\n",
    "\n",
    "        labels = batch['labels']\n",
    "\n",
    "\n",
    "\n",
    "        outputs = model(input_ids=input_ids, attention_mask=attention_mask)\n",
    "\n",
    "        logits = outputs.logits\n",
    "\n",
    "        preds = torch.sigmoid(logits).cpu().numpy()\n",
    "\n",
    "        predictions.append(preds)\n",
    "\n",
    "        true_labels.append(labels.cpu().numpy())\n",
    "\n",
    "\n",
    "\n",
    "\n",
    "\n",
    "predictions = np.concatenate(predictions, axis=0)\n",
    "\n",
    "true_labels = np.concatenate(true_labels, axis=0)"
   ]
  },
  {
   "cell_type": "code",
   "execution_count": 39,
   "id": "e1869db1",
   "metadata": {
    "execution": {
     "iopub.execute_input": "2024-11-16T06:44:34.624548Z",
     "iopub.status.busy": "2024-11-16T06:44:34.624164Z",
     "iopub.status.idle": "2024-11-16T06:44:34.650123Z",
     "shell.execute_reply": "2024-11-16T06:44:34.648409Z"
    },
    "id": "puBd1RV0HuTZ",
    "papermill": {
     "duration": 0.050676,
     "end_time": "2024-11-16T06:44:34.652223",
     "exception": false,
     "start_time": "2024-11-16T06:44:34.601547",
     "status": "completed"
    },
    "tags": []
   },
   "outputs": [
    {
     "name": "stdout",
     "output_type": "stream",
     "text": [
      "F1 Score: 0.6255141863482755\n",
      "              precision    recall  f1-score   support\n",
      "\n",
      "           0       0.65      0.41      0.50        37\n",
      "           1       0.77      0.85      0.81       157\n",
      "           2       0.61      0.57      0.59        67\n",
      "           3       0.68      0.57      0.62        97\n",
      "           4       0.63      0.59      0.61        86\n",
      "\n",
      "   micro avg       0.70      0.66      0.68       444\n",
      "   macro avg       0.67      0.60      0.63       444\n",
      "weighted avg       0.69      0.66      0.67       444\n",
      " samples avg       0.63      0.61      0.59       444\n",
      "\n"
     ]
    },
    {
     "name": "stderr",
     "output_type": "stream",
     "text": [
      "/opt/conda/lib/python3.10/site-packages/sklearn/metrics/_classification.py:1344: UndefinedMetricWarning: Precision and F-score are ill-defined and being set to 0.0 in samples with no predicted labels. Use `zero_division` parameter to control this behavior.\n",
      "  _warn_prf(average, modifier, msg_start, len(result))\n",
      "/opt/conda/lib/python3.10/site-packages/sklearn/metrics/_classification.py:1344: UndefinedMetricWarning: Recall and F-score are ill-defined and being set to 0.0 in samples with no true labels. Use `zero_division` parameter to control this behavior.\n",
      "  _warn_prf(average, modifier, msg_start, len(result))\n"
     ]
    }
   ],
   "source": [
    "from sklearn.metrics import f1_score\n",
    "\n",
    "from sklearn.metrics import classification_report\n",
    "\n",
    "\n",
    "\n",
    "threshold = 0.5\n",
    "\n",
    "binary_predictions = (predictions > threshold).astype(int)\n",
    "\n",
    "\n",
    "\n",
    "f1 = f1_score(true_labels, binary_predictions, average='macro',zero_division=0)\n",
    "\n",
    "print(f'F1 Score: {f1}')\n",
    "\n",
    "print(classification_report(true_labels,binary_predictions))"
   ]
  },
  {
   "cell_type": "code",
   "execution_count": 40,
   "id": "84c768d1",
   "metadata": {
    "execution": {
     "iopub.execute_input": "2024-11-16T06:44:34.702497Z",
     "iopub.status.busy": "2024-11-16T06:44:34.702148Z",
     "iopub.status.idle": "2024-11-16T06:44:34.716400Z",
     "shell.execute_reply": "2024-11-16T06:44:34.715319Z"
    },
    "papermill": {
     "duration": 0.045955,
     "end_time": "2024-11-16T06:44:34.719083",
     "exception": false,
     "start_time": "2024-11-16T06:44:34.673128",
     "status": "completed"
    },
    "tags": []
   },
   "outputs": [
    {
     "data": {
      "text/plain": [
       "0.5141611757913688"
      ]
     },
     "execution_count": 40,
     "metadata": {},
     "output_type": "execute_result"
    }
   ],
   "source": [
    "from sklearn.metrics import jaccard_score\n",
    "jaccard_score(true_labels,binary_predictions,average='weighted',zero_division=0)"
   ]
  },
  {
   "cell_type": "markdown",
   "id": "ba8ddf2c",
   "metadata": {
    "papermill": {
     "duration": 0.020473,
     "end_time": "2024-11-16T06:44:34.763070",
     "exception": false,
     "start_time": "2024-11-16T06:44:34.742597",
     "status": "completed"
    },
    "tags": []
   },
   "source": [
    "# track b"
   ]
  },
  {
   "cell_type": "code",
   "execution_count": 41,
   "id": "2ef803fb",
   "metadata": {
    "execution": {
     "iopub.execute_input": "2024-11-16T06:44:34.805491Z",
     "iopub.status.busy": "2024-11-16T06:44:34.804886Z",
     "iopub.status.idle": "2024-11-16T06:44:34.823587Z",
     "shell.execute_reply": "2024-11-16T06:44:34.822732Z"
    },
    "papermill": {
     "duration": 0.041843,
     "end_time": "2024-11-16T06:44:34.825558",
     "exception": false,
     "start_time": "2024-11-16T06:44:34.783715",
     "status": "completed"
    },
    "tags": []
   },
   "outputs": [],
   "source": [
    "data=pd.read_csv(\"/kaggle/input/intensity/eng.csv\")"
   ]
  },
  {
   "cell_type": "code",
   "execution_count": 42,
   "id": "a2dca15d",
   "metadata": {
    "execution": {
     "iopub.execute_input": "2024-11-16T06:44:34.877315Z",
     "iopub.status.busy": "2024-11-16T06:44:34.876869Z",
     "iopub.status.idle": "2024-11-16T06:44:34.892204Z",
     "shell.execute_reply": "2024-11-16T06:44:34.890468Z"
    },
    "papermill": {
     "duration": 0.045765,
     "end_time": "2024-11-16T06:44:34.894713",
     "exception": false,
     "start_time": "2024-11-16T06:44:34.848948",
     "status": "completed"
    },
    "tags": []
   },
   "outputs": [
    {
     "data": {
      "text/html": [
       "<div>\n",
       "<style scoped>\n",
       "    .dataframe tbody tr th:only-of-type {\n",
       "        vertical-align: middle;\n",
       "    }\n",
       "\n",
       "    .dataframe tbody tr th {\n",
       "        vertical-align: top;\n",
       "    }\n",
       "\n",
       "    .dataframe thead th {\n",
       "        text-align: right;\n",
       "    }\n",
       "</style>\n",
       "<table border=\"1\" class=\"dataframe\">\n",
       "  <thead>\n",
       "    <tr style=\"text-align: right;\">\n",
       "      <th></th>\n",
       "      <th>id</th>\n",
       "      <th>text</th>\n",
       "      <th>Anger</th>\n",
       "      <th>Fear</th>\n",
       "      <th>Joy</th>\n",
       "      <th>Sadness</th>\n",
       "      <th>Surprise</th>\n",
       "    </tr>\n",
       "  </thead>\n",
       "  <tbody>\n",
       "    <tr>\n",
       "      <th>0</th>\n",
       "      <td>eng_train_track_b_00001</td>\n",
       "      <td>My Spanish language skills were fairly basic.</td>\n",
       "      <td>0</td>\n",
       "      <td>1</td>\n",
       "      <td>0</td>\n",
       "      <td>0</td>\n",
       "      <td>0</td>\n",
       "    </tr>\n",
       "    <tr>\n",
       "      <th>1</th>\n",
       "      <td>eng_train_track_b_00002</td>\n",
       "      <td>Don't mess with my orange juice.</td>\n",
       "      <td>2</td>\n",
       "      <td>0</td>\n",
       "      <td>0</td>\n",
       "      <td>0</td>\n",
       "      <td>0</td>\n",
       "    </tr>\n",
       "    <tr>\n",
       "      <th>2</th>\n",
       "      <td>eng_train_track_b_00003</td>\n",
       "      <td>So, I am from a science background and analyze...</td>\n",
       "      <td>0</td>\n",
       "      <td>0</td>\n",
       "      <td>0</td>\n",
       "      <td>0</td>\n",
       "      <td>0</td>\n",
       "    </tr>\n",
       "    <tr>\n",
       "      <th>3</th>\n",
       "      <td>eng_train_track_b_00004</td>\n",
       "      <td>I was writing away.</td>\n",
       "      <td>0</td>\n",
       "      <td>0</td>\n",
       "      <td>1</td>\n",
       "      <td>0</td>\n",
       "      <td>0</td>\n",
       "    </tr>\n",
       "    <tr>\n",
       "      <th>4</th>\n",
       "      <td>eng_train_track_b_00005</td>\n",
       "      <td>Apparently it wasn't as life threatening as I ...</td>\n",
       "      <td>0</td>\n",
       "      <td>1</td>\n",
       "      <td>0</td>\n",
       "      <td>1</td>\n",
       "      <td>0</td>\n",
       "    </tr>\n",
       "    <tr>\n",
       "      <th>...</th>\n",
       "      <td>...</td>\n",
       "      <td>...</td>\n",
       "      <td>...</td>\n",
       "      <td>...</td>\n",
       "      <td>...</td>\n",
       "      <td>...</td>\n",
       "      <td>...</td>\n",
       "    </tr>\n",
       "    <tr>\n",
       "      <th>95</th>\n",
       "      <td>eng_train_track_b_00096</td>\n",
       "      <td>I close my mouth in a fine line, remembering o...</td>\n",
       "      <td>0</td>\n",
       "      <td>1</td>\n",
       "      <td>0</td>\n",
       "      <td>1</td>\n",
       "      <td>0</td>\n",
       "    </tr>\n",
       "    <tr>\n",
       "      <th>96</th>\n",
       "      <td>eng_train_track_b_00097</td>\n",
       "      <td>still cant get my head around the fact that th...</td>\n",
       "      <td>0</td>\n",
       "      <td>1</td>\n",
       "      <td>0</td>\n",
       "      <td>0</td>\n",
       "      <td>0</td>\n",
       "    </tr>\n",
       "    <tr>\n",
       "      <th>97</th>\n",
       "      <td>eng_train_track_b_00098</td>\n",
       "      <td>The form itself did not shed any light, but wa...</td>\n",
       "      <td>0</td>\n",
       "      <td>0</td>\n",
       "      <td>0</td>\n",
       "      <td>0</td>\n",
       "      <td>1</td>\n",
       "    </tr>\n",
       "    <tr>\n",
       "      <th>98</th>\n",
       "      <td>eng_train_track_b_00099</td>\n",
       "      <td>I was eating at an Ethiopian cafe the other day.</td>\n",
       "      <td>0</td>\n",
       "      <td>0</td>\n",
       "      <td>1</td>\n",
       "      <td>0</td>\n",
       "      <td>0</td>\n",
       "    </tr>\n",
       "    <tr>\n",
       "      <th>99</th>\n",
       "      <td>eng_train_track_b_00100</td>\n",
       "      <td>I'm trying to bribe them, keep them happy, and...</td>\n",
       "      <td>2</td>\n",
       "      <td>1</td>\n",
       "      <td>0</td>\n",
       "      <td>0</td>\n",
       "      <td>0</td>\n",
       "    </tr>\n",
       "  </tbody>\n",
       "</table>\n",
       "<p>100 rows × 7 columns</p>\n",
       "</div>"
      ],
      "text/plain": [
       "                         id  \\\n",
       "0   eng_train_track_b_00001   \n",
       "1   eng_train_track_b_00002   \n",
       "2   eng_train_track_b_00003   \n",
       "3   eng_train_track_b_00004   \n",
       "4   eng_train_track_b_00005   \n",
       "..                      ...   \n",
       "95  eng_train_track_b_00096   \n",
       "96  eng_train_track_b_00097   \n",
       "97  eng_train_track_b_00098   \n",
       "98  eng_train_track_b_00099   \n",
       "99  eng_train_track_b_00100   \n",
       "\n",
       "                                                 text  Anger  Fear  Joy  \\\n",
       "0       My Spanish language skills were fairly basic.      0     1    0   \n",
       "1                    Don't mess with my orange juice.      2     0    0   \n",
       "2   So, I am from a science background and analyze...      0     0    0   \n",
       "3                                 I was writing away.      0     0    1   \n",
       "4   Apparently it wasn't as life threatening as I ...      0     1    0   \n",
       "..                                                ...    ...   ...  ...   \n",
       "95  I close my mouth in a fine line, remembering o...      0     1    0   \n",
       "96  still cant get my head around the fact that th...      0     1    0   \n",
       "97  The form itself did not shed any light, but wa...      0     0    0   \n",
       "98   I was eating at an Ethiopian cafe the other day.      0     0    1   \n",
       "99  I'm trying to bribe them, keep them happy, and...      2     1    0   \n",
       "\n",
       "    Sadness  Surprise  \n",
       "0         0         0  \n",
       "1         0         0  \n",
       "2         0         0  \n",
       "3         0         0  \n",
       "4         1         0  \n",
       "..      ...       ...  \n",
       "95        1         0  \n",
       "96        0         0  \n",
       "97        0         1  \n",
       "98        0         0  \n",
       "99        0         0  \n",
       "\n",
       "[100 rows x 7 columns]"
      ]
     },
     "execution_count": 42,
     "metadata": {},
     "output_type": "execute_result"
    }
   ],
   "source": [
    "data.head(100)"
   ]
  },
  {
   "cell_type": "code",
   "execution_count": 43,
   "id": "0c4cb88f",
   "metadata": {
    "execution": {
     "iopub.execute_input": "2024-11-16T06:44:34.940236Z",
     "iopub.status.busy": "2024-11-16T06:44:34.939961Z",
     "iopub.status.idle": "2024-11-16T06:44:34.944590Z",
     "shell.execute_reply": "2024-11-16T06:44:34.943741Z"
    },
    "papermill": {
     "duration": 0.028146,
     "end_time": "2024-11-16T06:44:34.946570",
     "exception": false,
     "start_time": "2024-11-16T06:44:34.918424",
     "status": "completed"
    },
    "tags": []
   },
   "outputs": [],
   "source": [
    "data=data.drop(\"id\",axis=1)"
   ]
  },
  {
   "cell_type": "code",
   "execution_count": 44,
   "id": "05ad4635",
   "metadata": {
    "execution": {
     "iopub.execute_input": "2024-11-16T06:44:34.989390Z",
     "iopub.status.busy": "2024-11-16T06:44:34.989082Z",
     "iopub.status.idle": "2024-11-16T06:44:35.000313Z",
     "shell.execute_reply": "2024-11-16T06:44:34.999459Z"
    },
    "papermill": {
     "duration": 0.034761,
     "end_time": "2024-11-16T06:44:35.002180",
     "exception": false,
     "start_time": "2024-11-16T06:44:34.967419",
     "status": "completed"
    },
    "tags": []
   },
   "outputs": [
    {
     "data": {
      "text/html": [
       "<div>\n",
       "<style scoped>\n",
       "    .dataframe tbody tr th:only-of-type {\n",
       "        vertical-align: middle;\n",
       "    }\n",
       "\n",
       "    .dataframe tbody tr th {\n",
       "        vertical-align: top;\n",
       "    }\n",
       "\n",
       "    .dataframe thead th {\n",
       "        text-align: right;\n",
       "    }\n",
       "</style>\n",
       "<table border=\"1\" class=\"dataframe\">\n",
       "  <thead>\n",
       "    <tr style=\"text-align: right;\">\n",
       "      <th></th>\n",
       "      <th>text</th>\n",
       "      <th>Anger</th>\n",
       "      <th>Fear</th>\n",
       "      <th>Joy</th>\n",
       "      <th>Sadness</th>\n",
       "      <th>Surprise</th>\n",
       "    </tr>\n",
       "  </thead>\n",
       "  <tbody>\n",
       "    <tr>\n",
       "      <th>0</th>\n",
       "      <td>My Spanish language skills were fairly basic.</td>\n",
       "      <td>0</td>\n",
       "      <td>1</td>\n",
       "      <td>0</td>\n",
       "      <td>0</td>\n",
       "      <td>0</td>\n",
       "    </tr>\n",
       "    <tr>\n",
       "      <th>1</th>\n",
       "      <td>Don't mess with my orange juice.</td>\n",
       "      <td>2</td>\n",
       "      <td>0</td>\n",
       "      <td>0</td>\n",
       "      <td>0</td>\n",
       "      <td>0</td>\n",
       "    </tr>\n",
       "    <tr>\n",
       "      <th>2</th>\n",
       "      <td>So, I am from a science background and analyze...</td>\n",
       "      <td>0</td>\n",
       "      <td>0</td>\n",
       "      <td>0</td>\n",
       "      <td>0</td>\n",
       "      <td>0</td>\n",
       "    </tr>\n",
       "    <tr>\n",
       "      <th>3</th>\n",
       "      <td>I was writing away.</td>\n",
       "      <td>0</td>\n",
       "      <td>0</td>\n",
       "      <td>1</td>\n",
       "      <td>0</td>\n",
       "      <td>0</td>\n",
       "    </tr>\n",
       "    <tr>\n",
       "      <th>4</th>\n",
       "      <td>Apparently it wasn't as life threatening as I ...</td>\n",
       "      <td>0</td>\n",
       "      <td>1</td>\n",
       "      <td>0</td>\n",
       "      <td>1</td>\n",
       "      <td>0</td>\n",
       "    </tr>\n",
       "    <tr>\n",
       "      <th>...</th>\n",
       "      <td>...</td>\n",
       "      <td>...</td>\n",
       "      <td>...</td>\n",
       "      <td>...</td>\n",
       "      <td>...</td>\n",
       "      <td>...</td>\n",
       "    </tr>\n",
       "    <tr>\n",
       "      <th>2763</th>\n",
       "      <td>\"That's were those people went missing\".</td>\n",
       "      <td>0</td>\n",
       "      <td>3</td>\n",
       "      <td>0</td>\n",
       "      <td>1</td>\n",
       "      <td>2</td>\n",
       "    </tr>\n",
       "    <tr>\n",
       "      <th>2764</th>\n",
       "      <td>`` Out of my mouth came, `` I didn't see Creep...</td>\n",
       "      <td>0</td>\n",
       "      <td>2</td>\n",
       "      <td>0</td>\n",
       "      <td>0</td>\n",
       "      <td>1</td>\n",
       "    </tr>\n",
       "    <tr>\n",
       "      <th>2765</th>\n",
       "      <td>My muscles all relax With the feeling of an em...</td>\n",
       "      <td>0</td>\n",
       "      <td>0</td>\n",
       "      <td>2</td>\n",
       "      <td>0</td>\n",
       "      <td>0</td>\n",
       "    </tr>\n",
       "    <tr>\n",
       "      <th>2766</th>\n",
       "      <td>I was going up to see my Avs play the Red Wings.</td>\n",
       "      <td>0</td>\n",
       "      <td>0</td>\n",
       "      <td>2</td>\n",
       "      <td>0</td>\n",
       "      <td>0</td>\n",
       "    </tr>\n",
       "    <tr>\n",
       "      <th>2767</th>\n",
       "      <td>By the time we landed in Paris ( and for the n...</td>\n",
       "      <td>0</td>\n",
       "      <td>0</td>\n",
       "      <td>0</td>\n",
       "      <td>0</td>\n",
       "      <td>0</td>\n",
       "    </tr>\n",
       "  </tbody>\n",
       "</table>\n",
       "<p>2768 rows × 6 columns</p>\n",
       "</div>"
      ],
      "text/plain": [
       "                                                   text  Anger  Fear  Joy  \\\n",
       "0         My Spanish language skills were fairly basic.      0     1    0   \n",
       "1                      Don't mess with my orange juice.      2     0    0   \n",
       "2     So, I am from a science background and analyze...      0     0    0   \n",
       "3                                   I was writing away.      0     0    1   \n",
       "4     Apparently it wasn't as life threatening as I ...      0     1    0   \n",
       "...                                                 ...    ...   ...  ...   \n",
       "2763           \"That's were those people went missing\".      0     3    0   \n",
       "2764  `` Out of my mouth came, `` I didn't see Creep...      0     2    0   \n",
       "2765  My muscles all relax With the feeling of an em...      0     0    2   \n",
       "2766   I was going up to see my Avs play the Red Wings.      0     0    2   \n",
       "2767  By the time we landed in Paris ( and for the n...      0     0    0   \n",
       "\n",
       "      Sadness  Surprise  \n",
       "0           0         0  \n",
       "1           0         0  \n",
       "2           0         0  \n",
       "3           0         0  \n",
       "4           1         0  \n",
       "...       ...       ...  \n",
       "2763        1         2  \n",
       "2764        0         1  \n",
       "2765        0         0  \n",
       "2766        0         0  \n",
       "2767        0         0  \n",
       "\n",
       "[2768 rows x 6 columns]"
      ]
     },
     "execution_count": 44,
     "metadata": {},
     "output_type": "execute_result"
    }
   ],
   "source": [
    "data"
   ]
  },
  {
   "cell_type": "markdown",
   "id": "ab1b246b",
   "metadata": {
    "papermill": {
     "duration": 0.020906,
     "end_time": "2024-11-16T06:44:35.044566",
     "exception": false,
     "start_time": "2024-11-16T06:44:35.023660",
     "status": "completed"
    },
    "tags": []
   },
   "source": [
    "## all preprocessing"
   ]
  },
  {
   "cell_type": "code",
   "execution_count": 45,
   "id": "d971eeb5",
   "metadata": {
    "execution": {
     "iopub.execute_input": "2024-11-16T06:44:35.088076Z",
     "iopub.status.busy": "2024-11-16T06:44:35.087804Z",
     "iopub.status.idle": "2024-11-16T06:49:46.951105Z",
     "shell.execute_reply": "2024-11-16T06:49:46.950052Z"
    },
    "papermill": {
     "duration": 311.887708,
     "end_time": "2024-11-16T06:49:46.953603",
     "exception": false,
     "start_time": "2024-11-16T06:44:35.065895",
     "status": "completed"
    },
    "tags": []
   },
   "outputs": [],
   "source": [
    "\n",
    "data['text']=data['text'].apply(removing_punct)\n",
    "data['text']=data['text'].str.lower()\n",
    "data['text']=data['text'].apply(slang).str.strip()\n",
    "data['text']=data['text'].apply(url)\n",
    "data['text']=data['text'].apply(stop)\n",
    "data['text']=data['text'].apply(remove_numbers)\n",
    "data['text']=data['text'].apply(correct_word)"
   ]
  },
  {
   "cell_type": "code",
   "execution_count": 46,
   "id": "05811f0b",
   "metadata": {
    "execution": {
     "iopub.execute_input": "2024-11-16T06:49:46.997848Z",
     "iopub.status.busy": "2024-11-16T06:49:46.997520Z",
     "iopub.status.idle": "2024-11-16T06:49:47.009614Z",
     "shell.execute_reply": "2024-11-16T06:49:47.008795Z"
    },
    "papermill": {
     "duration": 0.036357,
     "end_time": "2024-11-16T06:49:47.011690",
     "exception": false,
     "start_time": "2024-11-16T06:49:46.975333",
     "status": "completed"
    },
    "tags": []
   },
   "outputs": [
    {
     "data": {
      "text/html": [
       "<div>\n",
       "<style scoped>\n",
       "    .dataframe tbody tr th:only-of-type {\n",
       "        vertical-align: middle;\n",
       "    }\n",
       "\n",
       "    .dataframe tbody tr th {\n",
       "        vertical-align: top;\n",
       "    }\n",
       "\n",
       "    .dataframe thead th {\n",
       "        text-align: right;\n",
       "    }\n",
       "</style>\n",
       "<table border=\"1\" class=\"dataframe\">\n",
       "  <thead>\n",
       "    <tr style=\"text-align: right;\">\n",
       "      <th></th>\n",
       "      <th>text</th>\n",
       "      <th>Anger</th>\n",
       "      <th>Fear</th>\n",
       "      <th>Joy</th>\n",
       "      <th>Sadness</th>\n",
       "      <th>Surprise</th>\n",
       "    </tr>\n",
       "  </thead>\n",
       "  <tbody>\n",
       "    <tr>\n",
       "      <th>0</th>\n",
       "      <td>spanish language skill  fairly basic</td>\n",
       "      <td>0</td>\n",
       "      <td>1</td>\n",
       "      <td>0</td>\n",
       "      <td>0</td>\n",
       "      <td>0</td>\n",
       "    </tr>\n",
       "    <tr>\n",
       "      <th>1</th>\n",
       "      <td>dont mess   orange juice</td>\n",
       "      <td>2</td>\n",
       "      <td>0</td>\n",
       "      <td>0</td>\n",
       "      <td>0</td>\n",
       "      <td>0</td>\n",
       "    </tr>\n",
       "    <tr>\n",
       "      <th>2</th>\n",
       "      <td>science background  analyze everything sk...</td>\n",
       "      <td>0</td>\n",
       "      <td>0</td>\n",
       "      <td>0</td>\n",
       "      <td>0</td>\n",
       "      <td>0</td>\n",
       "    </tr>\n",
       "    <tr>\n",
       "      <th>3</th>\n",
       "      <td>writing away</td>\n",
       "      <td>0</td>\n",
       "      <td>0</td>\n",
       "      <td>1</td>\n",
       "      <td>0</td>\n",
       "      <td>0</td>\n",
       "    </tr>\n",
       "    <tr>\n",
       "      <th>4</th>\n",
       "      <td>apparently  want  life threatening   believed ...</td>\n",
       "      <td>0</td>\n",
       "      <td>1</td>\n",
       "      <td>0</td>\n",
       "      <td>1</td>\n",
       "      <td>0</td>\n",
       "    </tr>\n",
       "    <tr>\n",
       "      <th>...</th>\n",
       "      <td>...</td>\n",
       "      <td>...</td>\n",
       "      <td>...</td>\n",
       "      <td>...</td>\n",
       "      <td>...</td>\n",
       "      <td>...</td>\n",
       "    </tr>\n",
       "    <tr>\n",
       "      <th>2763</th>\n",
       "      <td>that   people went missing</td>\n",
       "      <td>0</td>\n",
       "      <td>3</td>\n",
       "      <td>0</td>\n",
       "      <td>1</td>\n",
       "      <td>2</td>\n",
       "    </tr>\n",
       "    <tr>\n",
       "      <th>2764</th>\n",
       "      <td>mouth came  didn see creep first    brain  ...</td>\n",
       "      <td>0</td>\n",
       "      <td>2</td>\n",
       "      <td>0</td>\n",
       "      <td>0</td>\n",
       "      <td>1</td>\n",
       "    </tr>\n",
       "    <tr>\n",
       "      <th>2765</th>\n",
       "      <td>muscles  relax   feeling   empty hand   medal...</td>\n",
       "      <td>0</td>\n",
       "      <td>0</td>\n",
       "      <td>2</td>\n",
       "      <td>0</td>\n",
       "      <td>0</td>\n",
       "    </tr>\n",
       "    <tr>\n",
       "      <th>2766</th>\n",
       "      <td>going   see  as play  red wings</td>\n",
       "      <td>0</td>\n",
       "      <td>0</td>\n",
       "      <td>2</td>\n",
       "      <td>0</td>\n",
       "      <td>0</td>\n",
       "    </tr>\n",
       "    <tr>\n",
       "      <th>2767</th>\n",
       "      <td>time  landed  paris    next   weeks     song...</td>\n",
       "      <td>0</td>\n",
       "      <td>0</td>\n",
       "      <td>0</td>\n",
       "      <td>0</td>\n",
       "      <td>0</td>\n",
       "    </tr>\n",
       "  </tbody>\n",
       "</table>\n",
       "<p>2768 rows × 6 columns</p>\n",
       "</div>"
      ],
      "text/plain": [
       "                                                   text  Anger  Fear  Joy  \\\n",
       "0                  spanish language skill  fairly basic      0     1    0   \n",
       "1                              dont mess   orange juice      2     0    0   \n",
       "2          science background  analyze everything sk...      0     0    0   \n",
       "3                                          writing away      0     0    1   \n",
       "4     apparently  want  life threatening   believed ...      0     1    0   \n",
       "...                                                 ...    ...   ...  ...   \n",
       "2763                         that   people went missing      0     3    0   \n",
       "2764     mouth came  didn see creep first    brain  ...      0     2    0   \n",
       "2765   muscles  relax   feeling   empty hand   medal...      0     0    2   \n",
       "2766                    going   see  as play  red wings      0     0    2   \n",
       "2767    time  landed  paris    next   weeks     song...      0     0    0   \n",
       "\n",
       "      Sadness  Surprise  \n",
       "0           0         0  \n",
       "1           0         0  \n",
       "2           0         0  \n",
       "3           0         0  \n",
       "4           1         0  \n",
       "...       ...       ...  \n",
       "2763        1         2  \n",
       "2764        0         1  \n",
       "2765        0         0  \n",
       "2766        0         0  \n",
       "2767        0         0  \n",
       "\n",
       "[2768 rows x 6 columns]"
      ]
     },
     "execution_count": 46,
     "metadata": {},
     "output_type": "execute_result"
    }
   ],
   "source": [
    "data"
   ]
  },
  {
   "cell_type": "code",
   "execution_count": 47,
   "id": "c5efe224",
   "metadata": {
    "execution": {
     "iopub.execute_input": "2024-11-16T06:49:47.057195Z",
     "iopub.status.busy": "2024-11-16T06:49:47.056916Z",
     "iopub.status.idle": "2024-11-16T06:49:47.065256Z",
     "shell.execute_reply": "2024-11-16T06:49:47.064486Z"
    },
    "papermill": {
     "duration": 0.032654,
     "end_time": "2024-11-16T06:49:47.067110",
     "exception": false,
     "start_time": "2024-11-16T06:49:47.034456",
     "status": "completed"
    },
    "tags": []
   },
   "outputs": [],
   "source": [
    "from torch.utils.data import Dataset\n",
    "from transformers import BertTokenizer\n",
    "import torch\n",
    "\n",
    "class IntensityDataset(Dataset):\n",
    "    def __init__(self, texts, labels, tokenizer, max_len):\n",
    "       \n",
    "        self.texts = texts\n",
    "        self.labels = labels\n",
    "        self.tokenizer = tokenizer\n",
    "        self.max_len = max_len\n",
    "\n",
    "    def __len__(self):\n",
    "        return len(self.texts)\n",
    "\n",
    "    def __getitem__(self, idx):\n",
    "        text = self.texts[idx]\n",
    "        label = self.labels[idx]\n",
    "    \n",
    "        \n",
    "    \n",
    "        encoding = self.tokenizer.encode_plus(\n",
    "                text,\n",
    "                add_special_tokens=True,\n",
    "                max_length=self.max_len,\n",
    "                padding='max_length',\n",
    "                truncation=True,\n",
    "                return_attention_mask=True,\n",
    "                return_tensors='pt',\n",
    "        )\n",
    "\n",
    "    \n",
    "        # Return the tokenized text and the corresponding labels (intensity)\n",
    "        label = np.array(label, dtype=np.float32)  # Ensure the label is float32\n",
    "        print(f\"Label shape: {label.shape}, Label: {label}\")  # Debug print\n",
    "        return {\n",
    "                'input_ids': encoding['input_ids'].flatten(),\n",
    "                'attention_mask': encoding['attention_mask'].flatten(),\n",
    "                'labels': torch.tensor(label, dtype=torch.float)  # Ensure torch.float\n",
    "            }\n"
   ]
  },
  {
   "cell_type": "code",
   "execution_count": 48,
   "id": "a71b71c3",
   "metadata": {
    "execution": {
     "iopub.execute_input": "2024-11-16T06:49:47.110865Z",
     "iopub.status.busy": "2024-11-16T06:49:47.110597Z",
     "iopub.status.idle": "2024-11-16T06:49:47.115916Z",
     "shell.execute_reply": "2024-11-16T06:49:47.115053Z"
    },
    "papermill": {
     "duration": 0.029359,
     "end_time": "2024-11-16T06:49:47.117725",
     "exception": false,
     "start_time": "2024-11-16T06:49:47.088366",
     "status": "completed"
    },
    "tags": []
   },
   "outputs": [],
   "source": [
    "from sklearn.model_selection import train_test_split\n",
    "\n",
    "x=data['text'].values\n",
    "y=data.iloc[:,1:].values\n",
    "\n",
    "\n"
   ]
  },
  {
   "cell_type": "code",
   "execution_count": 49,
   "id": "de53fe35",
   "metadata": {
    "execution": {
     "iopub.execute_input": "2024-11-16T06:49:47.161564Z",
     "iopub.status.busy": "2024-11-16T06:49:47.161248Z",
     "iopub.status.idle": "2024-11-16T06:49:47.167426Z",
     "shell.execute_reply": "2024-11-16T06:49:47.166745Z"
    },
    "papermill": {
     "duration": 0.030133,
     "end_time": "2024-11-16T06:49:47.169316",
     "exception": false,
     "start_time": "2024-11-16T06:49:47.139183",
     "status": "completed"
    },
    "tags": []
   },
   "outputs": [],
   "source": [
    "x_train, x_temp, y_train, y_temp = train_test_split(x, y, test_size=0.2, random_state=42)\n",
    "x_val, x_test, y_val, y_test = train_test_split(x_temp, y_temp, test_size=0.5, random_state=42)"
   ]
  },
  {
   "cell_type": "code",
   "execution_count": 50,
   "id": "037cda3f",
   "metadata": {
    "execution": {
     "iopub.execute_input": "2024-11-16T06:49:47.213760Z",
     "iopub.status.busy": "2024-11-16T06:49:47.213472Z",
     "iopub.status.idle": "2024-11-16T06:49:47.219179Z",
     "shell.execute_reply": "2024-11-16T06:49:47.218330Z"
    },
    "papermill": {
     "duration": 0.029768,
     "end_time": "2024-11-16T06:49:47.220970",
     "exception": false,
     "start_time": "2024-11-16T06:49:47.191202",
     "status": "completed"
    },
    "tags": []
   },
   "outputs": [
    {
     "data": {
      "text/plain": [
       "array([[0, 1, 0, 0, 0],\n",
       "       [2, 0, 0, 0, 0],\n",
       "       [0, 0, 0, 0, 0],\n",
       "       ...,\n",
       "       [0, 0, 2, 0, 0],\n",
       "       [0, 0, 2, 0, 0],\n",
       "       [0, 0, 0, 0, 0]])"
      ]
     },
     "execution_count": 50,
     "metadata": {},
     "output_type": "execute_result"
    }
   ],
   "source": [
    "y"
   ]
  },
  {
   "cell_type": "code",
   "execution_count": 51,
   "id": "fbbcd7db",
   "metadata": {
    "execution": {
     "iopub.execute_input": "2024-11-16T06:49:47.302134Z",
     "iopub.status.busy": "2024-11-16T06:49:47.301796Z",
     "iopub.status.idle": "2024-11-16T06:49:47.353584Z",
     "shell.execute_reply": "2024-11-16T06:49:47.352830Z"
    },
    "papermill": {
     "duration": 0.076314,
     "end_time": "2024-11-16T06:49:47.355635",
     "exception": false,
     "start_time": "2024-11-16T06:49:47.279321",
     "status": "completed"
    },
    "tags": []
   },
   "outputs": [],
   "source": [
    "from torch.utils.data import DataLoader\n",
    "from transformers import BertTokenizer\n",
    "\n",
    "\n",
    "tokenizer = BertTokenizer.from_pretrained('/kaggle/input/bert-base-uncased')\n",
    "\n"
   ]
  },
  {
   "cell_type": "code",
   "execution_count": 52,
   "id": "6bc64813",
   "metadata": {
    "execution": {
     "iopub.execute_input": "2024-11-16T06:49:47.400338Z",
     "iopub.status.busy": "2024-11-16T06:49:47.399990Z",
     "iopub.status.idle": "2024-11-16T06:49:47.406022Z",
     "shell.execute_reply": "2024-11-16T06:49:47.405138Z"
    },
    "papermill": {
     "duration": 0.030298,
     "end_time": "2024-11-16T06:49:47.407926",
     "exception": false,
     "start_time": "2024-11-16T06:49:47.377628",
     "status": "completed"
    },
    "tags": []
   },
   "outputs": [],
   "source": [
    "\n",
    "train_dataset = IntensityDataset(x_train, y_train, tokenizer, max_len=64)\n",
    "val_dataset = IntensityDataset(x_val, y_val, tokenizer, max_len=64)\n",
    "test_dataset = IntensityDataset(x_test, y_test, tokenizer, max_len=64)\n",
    "\n",
    "\n",
    "ttrain_loader = DataLoader(\n",
    "    train_dataset,\n",
    "    batch_size=8,\n",
    "    shuffle=True,\n",
    "    drop_last=True,  \n",
    "      \n",
    ")\n",
    "val_loader = DataLoader(val_dataset, batch_size=8)\n",
    "test_loader = DataLoader(test_dataset, batch_size=8)"
   ]
  },
  {
   "cell_type": "code",
   "execution_count": 53,
   "id": "cb6780bd",
   "metadata": {
    "execution": {
     "iopub.execute_input": "2024-11-16T06:49:47.452435Z",
     "iopub.status.busy": "2024-11-16T06:49:47.452128Z",
     "iopub.status.idle": "2024-11-16T06:49:47.833186Z",
     "shell.execute_reply": "2024-11-16T06:49:47.832462Z"
    },
    "papermill": {
     "duration": 0.40572,
     "end_time": "2024-11-16T06:49:47.835325",
     "exception": false,
     "start_time": "2024-11-16T06:49:47.429605",
     "status": "completed"
    },
    "tags": []
   },
   "outputs": [
    {
     "name": "stderr",
     "output_type": "stream",
     "text": [
      "Some weights of BertForSequenceClassification were not initialized from the model checkpoint at /kaggle/input/bert-base-uncased and are newly initialized: ['classifier.bias', 'classifier.weight']\n",
      "You should probably TRAIN this model on a down-stream task to be able to use it for predictions and inference.\n"
     ]
    }
   ],
   "source": [
    "from transformers import BertForSequenceClassification\n",
    "\n",
    "\n",
    "num_labels = 5\n",
    "\n",
    "\n",
    "model = BertForSequenceClassification.from_pretrained('/kaggle/input/bert-base-uncased', num_labels=num_labels)"
   ]
  },
  {
   "cell_type": "code",
   "execution_count": 54,
   "id": "28023211",
   "metadata": {
    "execution": {
     "iopub.execute_input": "2024-11-16T06:49:47.881080Z",
     "iopub.status.busy": "2024-11-16T06:49:47.880360Z",
     "iopub.status.idle": "2024-11-16T06:59:29.524933Z",
     "shell.execute_reply": "2024-11-16T06:59:29.523935Z"
    },
    "papermill": {
     "duration": 581.691281,
     "end_time": "2024-11-16T06:59:29.548982",
     "exception": false,
     "start_time": "2024-11-16T06:49:47.857701",
     "status": "completed"
    },
    "tags": []
   },
   "outputs": [
    {
     "name": "stderr",
     "output_type": "stream",
     "text": [
      "/opt/conda/lib/python3.10/site-packages/transformers/optimization.py:591: FutureWarning: This implementation of AdamW is deprecated and will be removed in a future version. Use the PyTorch implementation torch.optim.AdamW instead, or set `no_deprecation_warning=True` to disable this warning\n",
      "  warnings.warn(\n"
     ]
    },
    {
     "name": "stdout",
     "output_type": "stream",
     "text": [
      "Training complete.\n"
     ]
    }
   ],
   "source": [
    "from transformers import AdamW, get_linear_schedule_with_warmup\n",
    "import torch\n",
    "import torch.nn as nn\n",
    "import numpy as np\n",
    "\n",
    "device = torch.device(\"cuda\" if torch.cuda.is_available() else \"cpu\")\n",
    "model.to(device)\n",
    "\n",
    "criterion = nn.CrossEntropyLoss()\n",
    "\n",
    "optimizer = AdamW(model.parameters(), lr=2e-5)\n",
    "total_steps = len(train_loader) * 10\n",
    "scheduler = get_linear_schedule_with_warmup(optimizer, num_warmup_steps=0, num_training_steps=total_steps)\n",
    "\n",
    "best_f1 = 0\n",
    "patience = 5\n",
    "patience_counter = 0\n",
    "\n",
    "for epoch in range(30):\n",
    "    model.train()\n",
    "    for batch in train_loader:\n",
    "        optimizer.zero_grad()\n",
    "    \n",
    "        input_ids = batch['input_ids'].to(device)\n",
    "        attention_mask = batch['attention_mask'].to(device)\n",
    "        labels = batch['labels'].to(device).long()\n",
    "        \n",
    "        outputs = model(input_ids=input_ids, attention_mask=attention_mask)\n",
    "        logits = outputs.logits\n",
    "\n",
    "        if logits.size(0) != labels.size(0):\n",
    "            print(f\"Adjusting labels to match logits batch size.\")\n",
    "            labels = labels[:logits.size(0)]\n",
    "    \n",
    "        loss = 0\n",
    "        for i in range(5):\n",
    "            loss += criterion(logits[:, i], torch.argmax(labels[:, i], dim=-1))\n",
    "        loss /= 5\n",
    "        \n",
    "        loss.backward()\n",
    "        optimizer.step()\n",
    "        scheduler.step()\n",
    "\n",
    "    model.save_pretrained('./best_model_bert_intensity')\n",
    "    tokenizer.save_pretrained('./best_model_bert_intensity')\n",
    "\n",
    "print(f\"Training complete.\")"
   ]
  },
  {
   "cell_type": "code",
   "execution_count": 55,
   "id": "4440a7fd",
   "metadata": {
    "execution": {
     "iopub.execute_input": "2024-11-16T06:59:29.593850Z",
     "iopub.status.busy": "2024-11-16T06:59:29.593536Z",
     "iopub.status.idle": "2024-11-16T06:59:29.877410Z",
     "shell.execute_reply": "2024-11-16T06:59:29.876336Z"
    },
    "papermill": {
     "duration": 0.308688,
     "end_time": "2024-11-16T06:59:29.879409",
     "exception": false,
     "start_time": "2024-11-16T06:59:29.570721",
     "status": "completed"
    },
    "tags": []
   },
   "outputs": [
    {
     "name": "stdout",
     "output_type": "stream",
     "text": [
      "Predicted intensity for anger: 0.17\n",
      "Predicted intensity for fear: 0.30\n",
      "Predicted intensity for joy: 0.88\n",
      "Predicted intensity for sadness: 0.62\n",
      "Predicted intensity for surprise: 0.37\n"
     ]
    }
   ],
   "source": [
    "import torch\n",
    "from transformers import BertTokenizer, BertForSequenceClassification\n",
    "\n",
    "tokenizer = BertTokenizer.from_pretrained('/kaggle/working/best_model_bert_intensity')\n",
    "model = BertForSequenceClassification.from_pretrained('/kaggle/working/best_model_bert_intensity')\n",
    "device = torch.device(\"cuda\" if torch.cuda.is_available() else \"cpu\")\n",
    "model.to(device)\n",
    "\n",
    "emotion_labels = [\"anger\", \"fear\", \"joy\", \"sadness\", \"surprise\"]\n",
    "\n",
    "text = \"ayush is sad and slightly happy\"\n",
    "\n",
    "inputs = tokenizer(text, return_tensors='pt', padding=True, truncation=True, max_length=512)\n",
    "\n",
    "inputs = {key: value.to(device) for key, value in inputs.items()}\n",
    "\n",
    "model.eval()\n",
    "\n",
    "with torch.no_grad():\n",
    "    outputs = model(**inputs)\n",
    "    logits = outputs.logits\n",
    "\n",
    "probabilities = torch.sigmoid(logits)\n",
    "\n",
    "intensity_predictions = probabilities.squeeze().cpu().numpy()\n",
    "\n",
    "for i, emotion in enumerate(emotion_labels):\n",
    "    print(f\"Predicted intensity for {emotion}: {intensity_predictions[i]:.2f}\")"
   ]
  },
  {
   "cell_type": "code",
   "execution_count": null,
   "id": "f33e47e3",
   "metadata": {
    "papermill": {
     "duration": 0.021831,
     "end_time": "2024-11-16T06:59:29.923640",
     "exception": false,
     "start_time": "2024-11-16T06:59:29.901809",
     "status": "completed"
    },
    "tags": []
   },
   "outputs": [],
   "source": []
  }
 ],
 "metadata": {
  "colab": {
   "collapsed_sections": [
    "DpXcZ3poXLs6"
   ],
   "provenance": []
  },
  "kaggle": {
   "accelerator": "gpu",
   "dataSources": [
    {
     "datasetId": 431504,
     "sourceId": 819665,
     "sourceType": "datasetVersion"
    },
    {
     "datasetId": 1003424,
     "sourceId": 1692967,
     "sourceType": "datasetVersion"
    },
    {
     "datasetId": 5993209,
     "sourceId": 9782401,
     "sourceType": "datasetVersion"
    },
    {
     "datasetId": 5996935,
     "sourceId": 9787489,
     "sourceType": "datasetVersion"
    },
    {
     "datasetId": 6091339,
     "sourceId": 9913121,
     "sourceType": "datasetVersion"
    }
   ],
   "dockerImageVersionId": 30787,
   "isGpuEnabled": true,
   "isInternetEnabled": false,
   "language": "python",
   "sourceType": "notebook"
  },
  "kernelspec": {
   "display_name": "Python 3",
   "language": "python",
   "name": "python3"
  },
  "language_info": {
   "codemirror_mode": {
    "name": "ipython",
    "version": 3
   },
   "file_extension": ".py",
   "mimetype": "text/x-python",
   "name": "python",
   "nbconvert_exporter": "python",
   "pygments_lexer": "ipython3",
   "version": "3.10.14"
  },
  "papermill": {
   "default_parameters": {},
   "duration": 1433.985221,
   "end_time": "2024-11-16T06:59:31.468538",
   "environment_variables": {},
   "exception": null,
   "input_path": "__notebook__.ipynb",
   "output_path": "__notebook__.ipynb",
   "parameters": {},
   "start_time": "2024-11-16T06:35:37.483317",
   "version": "2.6.0"
  }
 },
 "nbformat": 4,
 "nbformat_minor": 5
}
